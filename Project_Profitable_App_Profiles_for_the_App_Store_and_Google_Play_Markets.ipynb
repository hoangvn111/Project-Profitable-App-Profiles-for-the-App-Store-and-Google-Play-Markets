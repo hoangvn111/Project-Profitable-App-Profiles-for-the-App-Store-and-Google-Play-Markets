{
  "nbformat": 4,
  "nbformat_minor": 0,
  "metadata": {
    "colab": {
      "name": "Project: Profitable App Profiles for the App Store and Google Play Markets.ipynb",
      "provenance": [],
      "authorship_tag": "ABX9TyNp5INntdsiFXo2CuCU5XVY",
      "include_colab_link": true
    },
    "kernelspec": {
      "name": "python3",
      "display_name": "Python 3"
    },
    "language_info": {
      "name": "python"
    }
  },
  "cells": [
    {
      "cell_type": "markdown",
      "metadata": {
        "id": "view-in-github",
        "colab_type": "text"
      },
      "source": [
        "<a href=\"https://colab.research.google.com/github/hoangvn111/Project-Profitable-App-Profiles-for-the-App-Store-and-Google-Play-Markets/blob/master/Project_Profitable_App_Profiles_for_the_App_Store_and_Google_Play_Markets.ipynb\" target=\"_parent\"><img src=\"https://colab.research.google.com/assets/colab-badge.svg\" alt=\"Open In Colab\"/></a>"
      ]
    },
    {
      "cell_type": "code",
      "metadata": {
        "id": "gNHtgjp9C8fu",
        "colab": {
          "base_uri": "https://localhost:8080/"
        },
        "outputId": "57535779-c934-4803-e46a-d6a4f093ad7f"
      },
      "source": [
        "from google.colab import drive \n",
        "drive.mount('/content/drive/')"
      ],
      "execution_count": 1,
      "outputs": [
        {
          "output_type": "stream",
          "text": [
            "Drive already mounted at /content/drive/; to attempt to forcibly remount, call drive.mount(\"/content/drive/\", force_remount=True).\n"
          ],
          "name": "stdout"
        }
      ]
    },
    {
      "cell_type": "markdown",
      "metadata": {
        "id": "xvW198P4H5dM"
      },
      "source": [
        "\n",
        "# **Profitable App Profiles for the App Store and Google Play Markets**\n",
        "Our aim in this project is to find mobile app profiles that are profitable for the App Store and Google Play markets. We're working as data analysts for a company that builds Android and iOS mobile apps, and our job is to enable our team of developers to make data-driven decisions with respect to the kind of apps they build.\n",
        "\n",
        "At our company, we only build apps that are free to download and install, and our main source of revenue consists of in-app ads. This means that our revenue for any given app is mostly influenced by the number of users that use our app. Our goal for this project is to analyze data to help our developers understand what kinds of apps are likely to attract more users."
      ]
    },
    {
      "cell_type": "markdown",
      "metadata": {
        "id": "_OhQL6orINDa"
      },
      "source": [
        "## **Opening and Exploring the Data**"
      ]
    },
    {
      "cell_type": "code",
      "metadata": {
        "id": "eqbxy8aYF1X6"
      },
      "source": [
        "import csv\n",
        "\n",
        "open_file = open('/content/drive/MyDrive/my_datasets/Project: Profitable App Profiles for the App Store and Google Play Markets/googleplaystore.csv', encoding='utf8')\n",
        "read_file = csv.reader(open_file)\n",
        "android = list(read_file)\n",
        "android_header = android[0]\n",
        "android = android[1:]\n",
        "\n",
        "open_file = open('/content/drive/MyDrive/my_datasets/Project: Profitable App Profiles for the App Store and Google Play Markets/AppleStore.csv', encoding='utf8')\n",
        "read_file = csv.reader(open_file)\n",
        "ios = list(read_file)\n",
        "\n",
        "# remove first index column\n",
        "for row in ios:\n",
        "    row.pop(0)\n",
        "\n",
        "ios_header = ios[0]\n",
        "ios = ios[1:]\n"
      ],
      "execution_count": 2,
      "outputs": []
    },
    {
      "cell_type": "code",
      "metadata": {
        "id": "Wv10D6ZmNU6T",
        "colab": {
          "base_uri": "https://localhost:8080/"
        },
        "outputId": "17957888-4bf1-45fc-d8d4-580a211d64d7"
      },
      "source": [
        "print(android_header)\n",
        "print('\\n')\n",
        "print(android[:3])\n",
        "print('\\n')\n",
        "print(ios_header)\n",
        "print('\\n')\n",
        "print(ios[:3])"
      ],
      "execution_count": 3,
      "outputs": [
        {
          "output_type": "stream",
          "text": [
            "['App', 'Category', 'Rating', 'Reviews', 'Size', 'Installs', 'Type', 'Price', 'Content Rating', 'Genres', 'Last Updated', 'Current Ver', 'Android Ver']\n",
            "\n",
            "\n",
            "[['Photo Editor & Candy Camera & Grid & ScrapBook', 'ART_AND_DESIGN', '4.1', '159', '19M', '10,000+', 'Free', '0', 'Everyone', 'Art & Design', 'January 7, 2018', '1.0.0', '4.0.3 and up'], ['Coloring book moana', 'ART_AND_DESIGN', '3.9', '967', '14M', '500,000+', 'Free', '0', 'Everyone', 'Art & Design;Pretend Play', 'January 15, 2018', '2.0.0', '4.0.3 and up'], ['U Launcher Lite – FREE Live Cool Themes, Hide Apps', 'ART_AND_DESIGN', '4.7', '87510', '8.7M', '5,000,000+', 'Free', '0', 'Everyone', 'Art & Design', 'August 1, 2018', '1.2.4', '4.0.3 and up']]\n",
            "\n",
            "\n",
            "['id', 'track_name', 'size_bytes', 'currency', 'price', 'rating_count_tot', 'rating_count_ver', 'user_rating', 'user_rating_ver', 'ver', 'cont_rating', 'prime_genre', 'sup_devices.num', 'ipadSc_urls.num', 'lang.num', 'vpp_lic']\n",
            "\n",
            "\n",
            "[['281656475', 'PAC-MAN Premium', '100788224', 'USD', '3.99', '21292', '26', '4', '4.5', '6.3.5', '4+', 'Games', '38', '5', '10', '1'], ['281796108', 'Evernote - stay organized', '158578688', 'USD', '0', '161065', '26', '4', '3.5', '8.2.2', '4+', 'Productivity', '37', '5', '23', '1'], ['281940292', 'WeatherBug - Local Weather, Radar, Maps, Alerts', '100524032', 'USD', '0', '188583', '2822', '3.5', '4.5', '5.0.0', '4+', 'Weather', '37', '5', '3', '1']]\n"
          ],
          "name": "stdout"
        }
      ]
    },
    {
      "cell_type": "markdown",
      "metadata": {
        "id": "O6zw5rrsM1OR"
      },
      "source": [
        "\n",
        "To make it easier to explore the two data sets, we'll first write a function named **explore_data()** that we can use repeatedly to explore rows in a more readable way. We'll also add an option for our function to show the number of rows and columns for any data set.\n",
        "\n",
        "\n"
      ]
    },
    {
      "cell_type": "code",
      "metadata": {
        "id": "iqt3lobGJ0An"
      },
      "source": [
        "def explore_data(dataset, start, end, rows_and_columns=False):\n",
        "    dataset_slice = dataset[start:end]\n",
        "    for row in dataset_slice:\n",
        "        print(row)\n",
        "        print('\\n') # add a new empty line between rows\n",
        "\n",
        "    if rows_and_columns:\n",
        "        print('Number of rows:', len(dataset))\n",
        "        print('Number of columns:', len(row))"
      ],
      "execution_count": 4,
      "outputs": []
    },
    {
      "cell_type": "code",
      "metadata": {
        "id": "RNWPFljONPmq",
        "colab": {
          "base_uri": "https://localhost:8080/"
        },
        "outputId": "659f604c-7a87-4e42-e840-ab2fa5150d55"
      },
      "source": [
        "print(android_header)\n",
        "print('\\n')\n",
        "print(explore_data(android, 0, 3, True))"
      ],
      "execution_count": 5,
      "outputs": [
        {
          "output_type": "stream",
          "text": [
            "['App', 'Category', 'Rating', 'Reviews', 'Size', 'Installs', 'Type', 'Price', 'Content Rating', 'Genres', 'Last Updated', 'Current Ver', 'Android Ver']\n",
            "\n",
            "\n",
            "['Photo Editor & Candy Camera & Grid & ScrapBook', 'ART_AND_DESIGN', '4.1', '159', '19M', '10,000+', 'Free', '0', 'Everyone', 'Art & Design', 'January 7, 2018', '1.0.0', '4.0.3 and up']\n",
            "\n",
            "\n",
            "['Coloring book moana', 'ART_AND_DESIGN', '3.9', '967', '14M', '500,000+', 'Free', '0', 'Everyone', 'Art & Design;Pretend Play', 'January 15, 2018', '2.0.0', '4.0.3 and up']\n",
            "\n",
            "\n",
            "['U Launcher Lite – FREE Live Cool Themes, Hide Apps', 'ART_AND_DESIGN', '4.7', '87510', '8.7M', '5,000,000+', 'Free', '0', 'Everyone', 'Art & Design', 'August 1, 2018', '1.2.4', '4.0.3 and up']\n",
            "\n",
            "\n",
            "Number of rows: 10841\n",
            "Number of columns: 13\n",
            "None\n"
          ],
          "name": "stdout"
        }
      ]
    },
    {
      "cell_type": "markdown",
      "metadata": {
        "id": "-b96_6BqO5Y-"
      },
      "source": [
        "We see that the Google Play data set has 10841 apps and 13 columns. At a quick glance, the columns that might be useful for the purpose of our analysis are '**App**', '**Category**', '**Reviews**', '**Installs**', '**Type**', '**Price**', and '**Genres**'.\n",
        "\n",
        "Now let's take a look at the App Store data set."
      ]
    },
    {
      "cell_type": "code",
      "metadata": {
        "id": "snlD8wYHNvFv",
        "colab": {
          "base_uri": "https://localhost:8080/"
        },
        "outputId": "2c5b1f2a-7b74-41ff-d652-5d124dc619d1"
      },
      "source": [
        "print(ios_header)\n",
        "print('\\n')\n",
        "explore_data(ios, 0, 3, True)"
      ],
      "execution_count": 6,
      "outputs": [
        {
          "output_type": "stream",
          "text": [
            "['id', 'track_name', 'size_bytes', 'currency', 'price', 'rating_count_tot', 'rating_count_ver', 'user_rating', 'user_rating_ver', 'ver', 'cont_rating', 'prime_genre', 'sup_devices.num', 'ipadSc_urls.num', 'lang.num', 'vpp_lic']\n",
            "\n",
            "\n",
            "['281656475', 'PAC-MAN Premium', '100788224', 'USD', '3.99', '21292', '26', '4', '4.5', '6.3.5', '4+', 'Games', '38', '5', '10', '1']\n",
            "\n",
            "\n",
            "['281796108', 'Evernote - stay organized', '158578688', 'USD', '0', '161065', '26', '4', '3.5', '8.2.2', '4+', 'Productivity', '37', '5', '23', '1']\n",
            "\n",
            "\n",
            "['281940292', 'WeatherBug - Local Weather, Radar, Maps, Alerts', '100524032', 'USD', '0', '188583', '2822', '3.5', '4.5', '5.0.0', '4+', 'Weather', '37', '5', '3', '1']\n",
            "\n",
            "\n",
            "Number of rows: 7197\n",
            "Number of columns: 16\n"
          ],
          "name": "stdout"
        }
      ]
    },
    {
      "cell_type": "code",
      "metadata": {
        "id": "WsAMggs0FWuj"
      },
      "source": [
        ""
      ],
      "execution_count": 6,
      "outputs": []
    },
    {
      "cell_type": "markdown",
      "metadata": {
        "id": "Js4YquEUTl58"
      },
      "source": [
        "We have 7197 iOS apps in this data set, and the columns that seem interesting are: '**track_name**', '**currency**', '**price**', '**rating_count_tot**', '**rating_count_ver**', and '**prime_genre**'. Not all column names are self-explanatory in this case, but details about each column can be found in the data set [documentation.](https://www.kaggle.com/ramamet4/app-store-apple-data-set-10k-apps/home)"
      ]
    },
    {
      "cell_type": "markdown",
      "metadata": {
        "id": "5930AfFnTfxH"
      },
      "source": [
        "## **Deleting Wrong Data**"
      ]
    },
    {
      "cell_type": "markdown",
      "metadata": {
        "id": "FQ97Yls_VOvO"
      },
      "source": [
        "Write a function **find_missing_data()** to compare length of each row with length of header and find the index of row has wrong length => wrong data"
      ]
    },
    {
      "cell_type": "code",
      "metadata": {
        "id": "F--D3wuXPUx3"
      },
      "source": [
        "def find_missing_data(dataset, header):\n",
        "    count_err_rows = 0\n",
        "    for row in dataset:\n",
        "        if len(row) != len(header):\n",
        "            index = dataset.index(row)\n",
        "            print('row {} has wrong length'.format(index))\n",
        "            count_err_rows += 1\n",
        "        else:\n",
        "            count_err_rows = count_err_rows\n",
        "    if count_err_rows == 0:\n",
        "        result = 'Dataset has 0 rows wrong length'"
      ],
      "execution_count": 7,
      "outputs": []
    },
    {
      "cell_type": "code",
      "metadata": {
        "id": "UkkJFSGMW_WM",
        "colab": {
          "base_uri": "https://localhost:8080/"
        },
        "outputId": "9abfdaf6-8c84-459b-9871-6664845e7f94"
      },
      "source": [
        "find_missing_data(android, android_header)"
      ],
      "execution_count": 8,
      "outputs": [
        {
          "output_type": "stream",
          "text": [
            "row 10472 has wrong length\n"
          ],
          "name": "stdout"
        }
      ]
    },
    {
      "cell_type": "code",
      "metadata": {
        "id": "Nnm391n4ZDds",
        "colab": {
          "base_uri": "https://localhost:8080/"
        },
        "outputId": "25a703cc-1586-4d74-a9ba-e56c30052e08"
      },
      "source": [
        "print(android[10472])\n",
        "print('\\n')\n",
        "print(android_header)\n",
        "print('\\n')\n",
        "print(android[0])"
      ],
      "execution_count": 9,
      "outputs": [
        {
          "output_type": "stream",
          "text": [
            "['Life Made WI-Fi Touchscreen Photo Frame', '1.9', '19', '3.0M', '1,000+', 'Free', '0', 'Everyone', '', 'February 11, 2018', '1.0.19', '4.0 and up']\n",
            "\n",
            "\n",
            "['App', 'Category', 'Rating', 'Reviews', 'Size', 'Installs', 'Type', 'Price', 'Content Rating', 'Genres', 'Last Updated', 'Current Ver', 'Android Ver']\n",
            "\n",
            "\n",
            "['Photo Editor & Candy Camera & Grid & ScrapBook', 'ART_AND_DESIGN', '4.1', '159', '19M', '10,000+', 'Free', '0', 'Everyone', 'Art & Design', 'January 7, 2018', '1.0.0', '4.0.3 and up']\n"
          ],
          "name": "stdout"
        }
      ]
    },
    {
      "cell_type": "markdown",
      "metadata": {
        "id": "wZ8-6cxpcOBa"
      },
      "source": [
        "The row 10472 corresponds to the app ***Life Made WI-Fi Touchscreen Photo Frame***, and we can see that the rating is **19**. This is clearly off because the maximum rating for a Google Play app is **5** , this problem is caused by a **missing value in the 'Category'** column. As a consequence, we'll delete this row."
      ]
    },
    {
      "cell_type": "code",
      "metadata": {
        "id": "AeA3t-S4aNxf",
        "colab": {
          "base_uri": "https://localhost:8080/"
        },
        "outputId": "1b2e470c-392c-47d5-bda7-662805e3f8e4"
      },
      "source": [
        "print(len(android))\n",
        "del android[10472]\n",
        "print(len(android))"
      ],
      "execution_count": 10,
      "outputs": [
        {
          "output_type": "stream",
          "text": [
            "10841\n",
            "10840\n"
          ],
          "name": "stdout"
        }
      ]
    },
    {
      "cell_type": "code",
      "metadata": {
        "id": "wsrq9F_maLzB"
      },
      "source": [
        "find_missing_data(ios, ios_header)"
      ],
      "execution_count": 11,
      "outputs": []
    },
    {
      "cell_type": "markdown",
      "metadata": {
        "id": "enY4Hgm7dbsI"
      },
      "source": [
        "## **Removing Duplicate Entries**\n"
      ]
    },
    {
      "cell_type": "markdown",
      "metadata": {
        "id": "xti7F9JPdkFI"
      },
      "source": [
        "### **Part One**"
      ]
    },
    {
      "cell_type": "markdown",
      "metadata": {
        "id": "fYGOTXrRdqiD"
      },
      "source": [
        "If we explore the Google Play data set long enough, we'll find that some apps have more than one entry. For instance, the application *Instagram* has four entries:"
      ]
    },
    {
      "cell_type": "code",
      "metadata": {
        "id": "cx7fFBIAeAme",
        "colab": {
          "base_uri": "https://localhost:8080/"
        },
        "outputId": "f1f85637-6fff-4e5f-ad67-5769904fe1e7"
      },
      "source": [
        "android_header"
      ],
      "execution_count": 12,
      "outputs": [
        {
          "output_type": "execute_result",
          "data": {
            "text/plain": [
              "['App',\n",
              " 'Category',\n",
              " 'Rating',\n",
              " 'Reviews',\n",
              " 'Size',\n",
              " 'Installs',\n",
              " 'Type',\n",
              " 'Price',\n",
              " 'Content Rating',\n",
              " 'Genres',\n",
              " 'Last Updated',\n",
              " 'Current Ver',\n",
              " 'Android Ver']"
            ]
          },
          "metadata": {
            "tags": []
          },
          "execution_count": 12
        }
      ]
    },
    {
      "cell_type": "code",
      "metadata": {
        "id": "JRbYa9JsdT_j",
        "colab": {
          "base_uri": "https://localhost:8080/"
        },
        "outputId": "5efa73bf-93fa-4d7c-bfe3-b0c27dad182d"
      },
      "source": [
        "for app in android:\n",
        "    name = app[0]\n",
        "    if name == 'Instagram':\n",
        "        print(app)"
      ],
      "execution_count": 13,
      "outputs": [
        {
          "output_type": "stream",
          "text": [
            "['Instagram', 'SOCIAL', '4.5', '66577313', 'Varies with device', '1,000,000,000+', 'Free', '0', 'Teen', 'Social', 'July 31, 2018', 'Varies with device', 'Varies with device']\n",
            "['Instagram', 'SOCIAL', '4.5', '66577446', 'Varies with device', '1,000,000,000+', 'Free', '0', 'Teen', 'Social', 'July 31, 2018', 'Varies with device', 'Varies with device']\n",
            "['Instagram', 'SOCIAL', '4.5', '66577313', 'Varies with device', '1,000,000,000+', 'Free', '0', 'Teen', 'Social', 'July 31, 2018', 'Varies with device', 'Varies with device']\n",
            "['Instagram', 'SOCIAL', '4.5', '66509917', 'Varies with device', '1,000,000,000+', 'Free', '0', 'Teen', 'Social', 'July 31, 2018', 'Varies with device', 'Varies with device']\n"
          ],
          "name": "stdout"
        }
      ]
    },
    {
      "cell_type": "code",
      "metadata": {
        "id": "H3HvQnOMd32u",
        "colab": {
          "base_uri": "https://localhost:8080/"
        },
        "outputId": "ec3e66cb-2bb5-483b-c9a0-deddc03c91cc"
      },
      "source": [
        "duplicate_apps = []\n",
        "unique_apps = []\n",
        "\n",
        "for app in android:\n",
        "    name = app[0]\n",
        "    if name in unique_apps:\n",
        "        duplicate_apps.append(name)\n",
        "    else:\n",
        "        unique_apps.append(name)\n",
        "\n",
        "print('Number of duplicate apps:', len(duplicate_apps))\n",
        "print('\\n')\n",
        "print('Number of unique apps:', len(unique_apps))"
      ],
      "execution_count": 14,
      "outputs": [
        {
          "output_type": "stream",
          "text": [
            "Number of duplicate apps: 1181\n",
            "\n",
            "\n",
            "Number of unique apps: 9659\n"
          ],
          "name": "stdout"
        }
      ]
    },
    {
      "cell_type": "markdown",
      "metadata": {
        "id": "qzFyteYPx6hl"
      },
      "source": [
        "We don't want to count certain apps more than once when we analyze data, so we need to remove the duplicate entries and keep only one entry per app. One thing we could do is remove the duplicate rows randomly, but we could probably find a better way.\n",
        "\n",
        "If you examine the rows we printed two cells above for the Instagram app, the main difference happens on the fourth position of each row, which corresponds to the number of reviews. The different numbers show that the data was collected at different times. We can use this to build a criterion for keeping rows. We won't remove rows randomly, but rather we'll keep the rows that have the highest number of reviews because the higher the number of reviews, the more reliable the ratings.\n",
        "\n",
        "To do that, we will:\n",
        "\n",
        "* Create a dictionary where each key is a unique app name, and the value is the highest number of reviews of that app\n",
        "\n",
        "* Use the dictionary to create a new data set, which will have only one entry per app (and we only select the apps with the highest number of reviews)"
      ]
    },
    {
      "cell_type": "markdown",
      "metadata": {
        "id": "RyW4n2YNyoNj"
      },
      "source": [
        "### **Part Two**\n",
        "Let's start by building the dictionary."
      ]
    },
    {
      "cell_type": "code",
      "metadata": {
        "id": "kzqw-BrMx0Rp"
      },
      "source": [
        "reviews_max = {}\n",
        "\n",
        "for app in android:\n",
        "    name = app[0]\n",
        "    n_reviews = app[3]\n",
        "    if name in reviews_max and n_reviews > reviews_max[name]:\n",
        "        reviews_max[name] = n_reviews\n",
        "    elif name not in reviews_max:\n",
        "        reviews_max[name] = n_reviews\n"
      ],
      "execution_count": 15,
      "outputs": []
    },
    {
      "cell_type": "code",
      "metadata": {
        "id": "kZAF0ii80Bq_",
        "colab": {
          "base_uri": "https://localhost:8080/"
        },
        "outputId": "e0ac7396-6819-4595-fd9f-4eee3517e2c8"
      },
      "source": [
        "print('Expect length:', len(unique_apps))\n",
        "print('Actual length:', len(reviews_max))"
      ],
      "execution_count": 16,
      "outputs": [
        {
          "output_type": "stream",
          "text": [
            "Expect length: 9659\n",
            "Actual length: 9659\n"
          ],
          "name": "stdout"
        }
      ]
    },
    {
      "cell_type": "markdown",
      "metadata": {
        "id": "nMt6dCRD023-"
      },
      "source": [
        "Now, let's use the reviews_max dictionary to remove the duplicates. For the duplicate cases, we'll only keep the entries with the highest number of reviews. In the code cell below:\n",
        "\n",
        "* We start by initializing two empty lists, android_clean and already_added.\n",
        "* We loop through the android data set, and for every iteration:\n",
        " - We isolate the name of the app and the number of reviews.\n",
        " - We add the current row (app) to the android_clean list, and the app name (name) to the already_added list if:\n",
        "    - The number of reviews of the current app matches the number of reviews of that app as described in the reviews_max dictionary; and\n",
        "    - The name of the app is not already in the already_added list. We need to add this supplementary condition to account for those cases where the highest number of reviews of a duplicate app is the same for more than one entry (for example, the Box app has three entries, and the number of reviews is the same). If we just check for reviews_max[name] == n_reviews, we'll still end up with duplicate entries for some apps."
      ]
    },
    {
      "cell_type": "code",
      "metadata": {
        "id": "pO4d6v8H0E0M"
      },
      "source": [
        "android_clean = []\n",
        "already_added = []\n",
        "\n",
        "for app in android:\n",
        "    name = app[0]\n",
        "    n_reviews = app[3]\n",
        "\n",
        "    if (reviews_max[name] == n_reviews) and (name not in already_added):\n",
        "        android_clean.append(app)\n",
        "        already_added.append(name)"
      ],
      "execution_count": 17,
      "outputs": []
    },
    {
      "cell_type": "code",
      "metadata": {
        "id": "FbrNZ-e729uN",
        "colab": {
          "base_uri": "https://localhost:8080/"
        },
        "outputId": "e49930c8-a374-4dc1-d444-f3ce6c3cf7bb"
      },
      "source": [
        "explore_data(android_clean, 0, 3, True)"
      ],
      "execution_count": 18,
      "outputs": [
        {
          "output_type": "stream",
          "text": [
            "['Photo Editor & Candy Camera & Grid & ScrapBook', 'ART_AND_DESIGN', '4.1', '159', '19M', '10,000+', 'Free', '0', 'Everyone', 'Art & Design', 'January 7, 2018', '1.0.0', '4.0.3 and up']\n",
            "\n",
            "\n",
            "['U Launcher Lite – FREE Live Cool Themes, Hide Apps', 'ART_AND_DESIGN', '4.7', '87510', '8.7M', '5,000,000+', 'Free', '0', 'Everyone', 'Art & Design', 'August 1, 2018', '1.2.4', '4.0.3 and up']\n",
            "\n",
            "\n",
            "['Sketch - Draw & Paint', 'ART_AND_DESIGN', '4.5', '215644', '25M', '50,000,000+', 'Free', '0', 'Teen', 'Art & Design', 'June 8, 2018', 'Varies with device', '4.2 and up']\n",
            "\n",
            "\n",
            "Number of rows: 9659\n",
            "Number of columns: 13\n"
          ],
          "name": "stdout"
        }
      ]
    },
    {
      "cell_type": "markdown",
      "metadata": {
        "id": "pxUg9iXx6Cfb"
      },
      "source": [
        "\n",
        "We have 9659 rows, just as expected"
      ]
    },
    {
      "cell_type": "markdown",
      "metadata": {
        "id": "LZPKwwPyAqPV"
      },
      "source": [
        "## **Removing Non-English Apps**"
      ]
    },
    {
      "cell_type": "markdown",
      "metadata": {
        "id": "826yWxLVAubX"
      },
      "source": [
        "### **Part One**"
      ]
    },
    {
      "cell_type": "markdown",
      "metadata": {
        "id": "-aVlaLL7Azuw"
      },
      "source": [
        "If you explore the data sets enough, you'll notice the names of some of the apps suggest they are not directed toward an English-speaking audience. Below, we see a couple of examples from both data sets:"
      ]
    },
    {
      "cell_type": "code",
      "metadata": {
        "id": "J5hT_l7j3AxT",
        "colab": {
          "base_uri": "https://localhost:8080/"
        },
        "outputId": "20295550-2375-4269-f060-eb09a11a7aa3"
      },
      "source": [
        "print(ios[814][1])\n",
        "print(ios[6734][1])\n",
        "\n",
        "print(android_clean[4415][0])\n",
        "print(android_clean[7941][0])"
      ],
      "execution_count": 19,
      "outputs": [
        {
          "output_type": "stream",
          "text": [
            "搜狐新闻—新闻热点资讯掌上阅读软件\n",
            "エレメンタル ファンタジー - 高精細３ＤアクションＲＰＧ\n",
            "中国語 AQリスニング\n",
            "لعبة تقدر تربح DZ\n"
          ],
          "name": "stdout"
        }
      ]
    },
    {
      "cell_type": "markdown",
      "metadata": {
        "id": "0Sg-baFeCfuf"
      },
      "source": [
        "We're not interested in keeping these kind of apps, so we'll remove them. One way to go about this is to remove each app whose name contains a symbol that is not commonly used in English text — English text usually includes letters from the English alphabet, numbers composed of digits from 0 to 9, punctuation marks (., !, ?, ;, etc.), and other symbols (+, *, /, etc.).\n",
        "\n",
        "All these characters that are specific to English texts are encoded using the ASCII standard. Each ASCII character has a corresponding number between 0 and 127 associated with it, and we can take advantage of that to build a function that checks an app name and tells us whether it contains non-ASCII characters.\n",
        "\n",
        "We built this function below, and we use the built-in ord() function to find out the corresponding encoding number of each character."
      ]
    },
    {
      "cell_type": "code",
      "metadata": {
        "id": "JwlEvxR5A2Xa",
        "colab": {
          "base_uri": "https://localhost:8080/"
        },
        "outputId": "1147d13b-bdba-47f6-9670-c3eb52869e43"
      },
      "source": [
        "def is_english(string):\n",
        "    for char in string:\n",
        "        if ord(char) > 127:\n",
        "            return False\n",
        "  \n",
        "    return True\n",
        "\n",
        "print(is_english('Instagram'))\n",
        "print(is_english('爱奇艺PPS -《欢乐颂2》电视剧热播'))"
      ],
      "execution_count": 20,
      "outputs": [
        {
          "output_type": "stream",
          "text": [
            "True\n",
            "False\n"
          ],
          "name": "stdout"
        }
      ]
    },
    {
      "cell_type": "markdown",
      "metadata": {
        "id": "QgQnCefXCotB"
      },
      "source": [
        "\n",
        "The function seems to work fine, but some English app names use emojis or other symbols (™, — (em dash), – (en dash), etc.) that fall outside of the ASCII range. Because of this, we'll remove useful apps if we use the function in its current form."
      ]
    },
    {
      "cell_type": "code",
      "metadata": {
        "colab": {
          "base_uri": "https://localhost:8080/"
        },
        "id": "juBzYMocCiZ6",
        "outputId": "c00c089f-ef6b-408e-800e-68e31fb5264f"
      },
      "source": [
        "print(is_english('Docs To Go™ Free Office Suite'))\n",
        "print(is_english('Instachat 😜'))\n",
        "\n",
        "print(ord('™'))\n",
        "print(ord('😜'))"
      ],
      "execution_count": 21,
      "outputs": [
        {
          "output_type": "stream",
          "text": [
            "False\n",
            "False\n",
            "8482\n",
            "128540\n"
          ],
          "name": "stdout"
        }
      ]
    },
    {
      "cell_type": "markdown",
      "metadata": {
        "id": "zfBiQKeFhQe5"
      },
      "source": [
        "### **Part Two**\n",
        "To minimize the impact of data loss, we'll only remove an app if its name has more than three non-ASCII characters:\n",
        "\n"
      ]
    },
    {
      "cell_type": "code",
      "metadata": {
        "colab": {
          "base_uri": "https://localhost:8080/"
        },
        "id": "P8sAO9yfCroA",
        "outputId": "22b096bd-fc6b-4196-858e-dbf8f7de3665"
      },
      "source": [
        "def is_english(string):\n",
        "    non_ascii = 0\n",
        "\n",
        "    for char in string:\n",
        "        if ord(char) > 127:\n",
        "            non_ascii += 1\n",
        "    if non_ascii > 3:\n",
        "        return False\n",
        "    else:\n",
        "        return True\n",
        "\n",
        "print(is_english('Docs To Go™ Free Office Suite'))\n",
        "print(is_english('Instachat 😜'))"
      ],
      "execution_count": 22,
      "outputs": [
        {
          "output_type": "stream",
          "text": [
            "True\n",
            "True\n"
          ],
          "name": "stdout"
        }
      ]
    },
    {
      "cell_type": "markdown",
      "metadata": {
        "id": "me9kEdbaDmPh"
      },
      "source": [
        "The function is still not perfect, and very few non-English apps might get past our filter, but this seems good enough at this point in our analysis — we shouldn't spend too much time on optimization at this point.\n",
        "\n",
        "Below, we use the is_english() function to filter out the non-English apps for both data sets:"
      ]
    },
    {
      "cell_type": "code",
      "metadata": {
        "id": "RhQ2iMsCDZey"
      },
      "source": [
        "android_english = []\n",
        "ios_english = []\n",
        "\n",
        "for app in ios:\n",
        "    name = app[1] \n",
        "    if is_english(name):\n",
        "        ios_english.append(app)\n",
        "\n",
        "for app in android_clean:\n",
        "    name = app[0]\n",
        "    if is_english(name):\n",
        "        android_english.append(app)"
      ],
      "execution_count": 23,
      "outputs": []
    },
    {
      "cell_type": "code",
      "metadata": {
        "colab": {
          "base_uri": "https://localhost:8080/"
        },
        "id": "FSITzqDeEcb6",
        "outputId": "ef583f11-2902-46ef-aaf5-8bad8da48b6e"
      },
      "source": [
        "explore_data(android_english, 0, 3, True)\n",
        "print('\\n')\n",
        "explore_data(ios_english, 0, 3, True)"
      ],
      "execution_count": 24,
      "outputs": [
        {
          "output_type": "stream",
          "text": [
            "['Photo Editor & Candy Camera & Grid & ScrapBook', 'ART_AND_DESIGN', '4.1', '159', '19M', '10,000+', 'Free', '0', 'Everyone', 'Art & Design', 'January 7, 2018', '1.0.0', '4.0.3 and up']\n",
            "\n",
            "\n",
            "['U Launcher Lite – FREE Live Cool Themes, Hide Apps', 'ART_AND_DESIGN', '4.7', '87510', '8.7M', '5,000,000+', 'Free', '0', 'Everyone', 'Art & Design', 'August 1, 2018', '1.2.4', '4.0.3 and up']\n",
            "\n",
            "\n",
            "['Sketch - Draw & Paint', 'ART_AND_DESIGN', '4.5', '215644', '25M', '50,000,000+', 'Free', '0', 'Teen', 'Art & Design', 'June 8, 2018', 'Varies with device', '4.2 and up']\n",
            "\n",
            "\n",
            "Number of rows: 9614\n",
            "Number of columns: 13\n",
            "\n",
            "\n",
            "['281656475', 'PAC-MAN Premium', '100788224', 'USD', '3.99', '21292', '26', '4', '4.5', '6.3.5', '4+', 'Games', '38', '5', '10', '1']\n",
            "\n",
            "\n",
            "['281796108', 'Evernote - stay organized', '158578688', 'USD', '0', '161065', '26', '4', '3.5', '8.2.2', '4+', 'Productivity', '37', '5', '23', '1']\n",
            "\n",
            "\n",
            "['281940292', 'WeatherBug - Local Weather, Radar, Maps, Alerts', '100524032', 'USD', '0', '188583', '2822', '3.5', '4.5', '5.0.0', '4+', 'Weather', '37', '5', '3', '1']\n",
            "\n",
            "\n",
            "Number of rows: 6183\n",
            "Number of columns: 16\n"
          ],
          "name": "stdout"
        }
      ]
    },
    {
      "cell_type": "markdown",
      "metadata": {
        "id": "IgMp2hJvE07-"
      },
      "source": [
        "We can see that we're left with 9614 Android apps and 6183 iOS apps."
      ]
    },
    {
      "cell_type": "markdown",
      "metadata": {
        "id": "O4n-kimeE42g"
      },
      "source": [
        "## **Isolating the Free Apps**"
      ]
    },
    {
      "cell_type": "markdown",
      "metadata": {
        "id": "AI9EC9q5FALH"
      },
      "source": [
        "As we mentioned in the introduction, we only build apps that are free to download and install, and our main source of revenue consists of in-app ads. Our data sets contain both free and non-free apps, and we'll need to isolate only the free apps for our analysis. Below, we isolate the free apps for both our data sets."
      ]
    },
    {
      "cell_type": "code",
      "metadata": {
        "colab": {
          "base_uri": "https://localhost:8080/"
        },
        "id": "niY3S84aEp0v",
        "outputId": "0ff9820e-4526-4884-c9b0-a9c7c4a20225"
      },
      "source": [
        "android_final = []\n",
        "ios_final = []\n",
        "\n",
        "for app in android_english:\n",
        "    price = app[7]\n",
        "    price = app[7].replace('$', '')\n",
        "    price = float(price)\n",
        "    if price == 0:\n",
        "        android_final.append(app)\n",
        "\n",
        "for app in ios_english:\n",
        "    price = float(app[4])\n",
        "    if price == 0: \n",
        "        ios_final.append(app)\n",
        "\n",
        "print(len(android_final))\n",
        "print(len(ios_final))"
      ],
      "execution_count": 25,
      "outputs": [
        {
          "output_type": "stream",
          "text": [
            "8862\n",
            "3222\n"
          ],
          "name": "stdout"
        }
      ]
    },
    {
      "cell_type": "markdown",
      "metadata": {
        "id": "Yv5IyyoNI3Y9"
      },
      "source": [
        "We're left with 8862 Android apps and 3222 iOS apps, which should be enough for our analysis.\n",
        "\n"
      ]
    },
    {
      "cell_type": "markdown",
      "metadata": {
        "id": "p0Zxyhv7G-Hn"
      },
      "source": [
        "## **Most Common Apps by Genre**"
      ]
    },
    {
      "cell_type": "markdown",
      "metadata": {
        "id": "o3EDhK9bHBN-"
      },
      "source": [
        "### **Part One**"
      ]
    },
    {
      "cell_type": "markdown",
      "metadata": {
        "id": "1EtmxaIGHG1W"
      },
      "source": [
        "As we mentioned in the introduction, our aim is to determine the kinds of apps that are likely to attract more users because our revenue is highly influenced by the number of people using our apps.\n",
        "\n",
        "To minimize risks and overhead, our validation strategy for an app idea is comprised of three steps:\n",
        "\n",
        "1. Build a minimal Android version of the app, and add it to Google Play.\n",
        "2. If the app has a good response from users, we then develop it further.\n",
        "3. If the app is profitable after six months, we also build an iOS version of the app and add it to the App Store.\n",
        "\n",
        "Because our end goal is to add the app on both the App Store and Google Play, we need to find app profiles that are successful on both markets. For instance, a profile that might work well for both markets might be a productivity app that makes use of gamification.\n",
        "\n",
        "Let's begin the analysis by getting a sense of the most common genres for each market. For this, we'll build a frequency table for the **prime_genre** column of the App Store data set, and the **Genres** and **Category** columns of the Google Play data set."
      ]
    },
    {
      "cell_type": "markdown",
      "metadata": {
        "id": "4Xfo60wkHra-"
      },
      "source": [
        "### **Part Two**"
      ]
    },
    {
      "cell_type": "markdown",
      "metadata": {
        "id": "73-mOJE3HvjB"
      },
      "source": [
        "We'll build two functions we can use to analyze the frequency tables:\n",
        "\n",
        "* One function to generate frequency tables that show percentages\n",
        "* Another function that we can use to display the percentages in a descending order"
      ]
    },
    {
      "cell_type": "code",
      "metadata": {
        "id": "tG3pbDGgHy1x"
      },
      "source": [
        "def freq_table(dataset, index):\n",
        "    table = {}\n",
        "    total = 0\n",
        "    for row in dataset:\n",
        "        total += 1\n",
        "        value = row[index]\n",
        "        if value in table:\n",
        "            table[value] += 1\n",
        "        else:\n",
        "            table[value] = 1\n",
        "  \n",
        "    table_percentage = {}\n",
        "    for key in table:\n",
        "        percentage = (table[key] / total) * 100\n",
        "        table_percentage[key] = percentage\n",
        "  \n",
        "    return table_percentage\n",
        "\n",
        "def display_table(dataset, index):\n",
        "    table = freq_table(dataset, index)\n",
        "    table_sorted = {k: v for k, v in sorted(table.items(), key=lambda item: item[1], reverse=True)}\n",
        "\n",
        "    for entry in table_sorted:\n",
        "        print(entry, ':', table_sorted[entry])\n",
        "    "
      ],
      "execution_count": 26,
      "outputs": []
    },
    {
      "cell_type": "markdown",
      "metadata": {
        "id": "UewzyXtuaTTR"
      },
      "source": [
        "### **Part Three**"
      ]
    },
    {
      "cell_type": "markdown",
      "metadata": {
        "id": "tVRKgKGkaW8E"
      },
      "source": [
        "We start by examining the frequency table for the prime_genre column of the App Store data set.\n",
        "\n"
      ]
    },
    {
      "cell_type": "code",
      "metadata": {
        "id": "-2yqY9esGhUb",
        "colab": {
          "base_uri": "https://localhost:8080/"
        },
        "outputId": "10539b6c-9941-479c-fb02-7ed68f218df9"
      },
      "source": [
        "display_table(ios_final, -5)"
      ],
      "execution_count": 27,
      "outputs": [
        {
          "output_type": "stream",
          "text": [
            "Games : 58.16263190564867\n",
            "Entertainment : 7.883302296710118\n",
            "Photo & Video : 4.9658597144630665\n",
            "Education : 3.662321539416512\n",
            "Social Networking : 3.2898820608317814\n",
            "Shopping : 2.60707635009311\n",
            "Utilities : 2.5139664804469275\n",
            "Sports : 2.1415270018621975\n",
            "Music : 2.0484171322160147\n",
            "Health & Fitness : 2.0173805090006205\n",
            "Productivity : 1.7380509000620732\n",
            "Lifestyle : 1.5828677839851024\n",
            "News : 1.3345747982619491\n",
            "Travel : 1.2414649286157666\n",
            "Finance : 1.1173184357541899\n",
            "Weather : 0.8690254500310366\n",
            "Food & Drink : 0.8069522036002483\n",
            "Reference : 0.5586592178770949\n",
            "Business : 0.5276225946617008\n",
            "Book : 0.4345127250155183\n",
            "Navigation : 0.186219739292365\n",
            "Medical : 0.186219739292365\n",
            "Catalogs : 0.12414649286157665\n"
          ],
          "name": "stdout"
        }
      ]
    },
    {
      "cell_type": "markdown",
      "metadata": {
        "id": "uRs_2FEeaagf"
      },
      "source": [
        "We can see that among the free English apps, more than a half (58.16%) are games. Entertainment apps are close to 8%, followed by photo and video apps, which are close to 5%. Only 3.66% of the apps are designed for education, followed by social networking apps which amount for 3.29% of the apps in our data set.\n",
        "\n",
        "The general impression is that App Store (at least the part containing free English apps) is dominated by apps that are designed for fun (games, entertainment, photo and video, social networking, sports, music, etc.), while apps with practical purposes (education, shopping, utilities, productivity, lifestyle, etc.) are more rare. However, the fact that fun apps are the most numerous doesn't also imply that they also have the greatest number of users — the demand might not be the same as the offer.\n",
        "\n",
        "Let's continue by examining the Genres and Category columns of the Google Play data set (two columns which seem to be related)."
      ]
    },
    {
      "cell_type": "code",
      "metadata": {
        "colab": {
          "base_uri": "https://localhost:8080/"
        },
        "id": "4i0eBJ6WKeds",
        "outputId": "e9bd02ce-5866-4bf0-f2fa-6476c133fd6a"
      },
      "source": [
        "display_table(android_final, 1) # Category\n"
      ],
      "execution_count": 28,
      "outputs": [
        {
          "output_type": "stream",
          "text": [
            "FAMILY : 18.934777702550214\n",
            "GAME : 9.693071541412774\n",
            "TOOLS : 8.451816745655607\n",
            "BUSINESS : 4.5926427443015125\n",
            "LIFESTYLE : 3.9043105393816293\n",
            "PRODUCTIVITY : 3.8930264048747465\n",
            "FINANCE : 3.7011961182577298\n",
            "MEDICAL : 3.5206499661475967\n",
            "SPORTS : 3.39652448657188\n",
            "PERSONALIZATION : 3.3175355450236967\n",
            "COMMUNICATION : 3.238546603475513\n",
            "HEALTH_AND_FITNESS : 3.080568720379147\n",
            "PHOTOGRAPHY : 2.945159106296547\n",
            "NEWS_AND_MAGAZINES : 2.798465357707064\n",
            "SOCIAL : 2.663055743624464\n",
            "TRAVEL_AND_LOCAL : 2.335815842924848\n",
            "SHOPPING : 2.2455427668697814\n",
            "BOOKS_AND_REFERENCE : 2.143985556307831\n",
            "DATING : 1.8618821936357481\n",
            "VIDEO_PLAYERS : 1.7941773865944481\n",
            "MAPS_AND_NAVIGATION : 1.399232678853532\n",
            "FOOD_AND_DRINK : 1.2412547957571656\n",
            "EDUCATION : 1.1735499887158656\n",
            "ENTERTAINMENT : 0.9591514330850823\n",
            "LIBRARIES_AND_DEMO : 0.9365831640713158\n",
            "AUTO_AND_VEHICLES : 0.9252990295644324\n",
            "HOUSE_AND_HOME : 0.8237418190024826\n",
            "WEATHER : 0.8011735499887158\n",
            "EVENTS : 0.7109004739336493\n",
            "PARENTING : 0.6544798013992327\n",
            "ART_AND_DESIGN : 0.6431956668923494\n",
            "COMICS : 0.6206273978785828\n",
            "BEAUTY : 0.598059128864816\n"
          ],
          "name": "stdout"
        }
      ]
    },
    {
      "cell_type": "markdown",
      "metadata": {
        "id": "dy0tVjaDal9n"
      },
      "source": [
        "The landscape seems significantly different on Google Play: there are not that many apps designed for fun, and it seems that a good number of apps are designed for practical purposes (family, tools, business, lifestyle, productivity, etc.). However, if we investigate this further, we can see that the family category (which accounts for almost 19% of the apps) means mostly games for kids."
      ]
    },
    {
      "cell_type": "code",
      "metadata": {
        "colab": {
          "base_uri": "https://localhost:8080/"
        },
        "id": "xeICDQlIaitE",
        "outputId": "cc3ad977-665e-48fe-9fdc-3d22ae163900"
      },
      "source": [
        "display_table(android_final, -4)"
      ],
      "execution_count": 29,
      "outputs": [
        {
          "output_type": "stream",
          "text": [
            "Tools : 8.440532611148726\n",
            "Entertainment : 6.070864364703228\n",
            "Education : 5.348679756262695\n",
            "Business : 4.5926427443015125\n",
            "Lifestyle : 3.8930264048747465\n",
            "Productivity : 3.8930264048747465\n",
            "Finance : 3.7011961182577298\n",
            "Medical : 3.5206499661475967\n",
            "Sports : 3.4642292936131795\n",
            "Personalization : 3.3175355450236967\n",
            "Communication : 3.238546603475513\n",
            "Action : 3.1031369893929135\n",
            "Health & Fitness : 3.080568720379147\n",
            "Photography : 2.945159106296547\n",
            "News & Magazines : 2.798465357707064\n",
            "Social : 2.663055743624464\n",
            "Travel & Local : 2.324531708417964\n",
            "Shopping : 2.2455427668697814\n",
            "Books & Reference : 2.143985556307831\n",
            "Simulation : 2.0424283457458814\n",
            "Dating : 1.8618821936357481\n",
            "Arcade : 1.8505980591288649\n",
            "Video Players & Editors : 1.7716091175806816\n",
            "Casual : 1.7490408485669149\n",
            "Maps & Navigation : 1.399232678853532\n",
            "Food & Drink : 1.2412547957571656\n",
            "Puzzle : 1.128413450688332\n",
            "Racing : 0.9930038366057323\n",
            "Libraries & Demo : 0.9365831640713158\n",
            "Role Playing : 0.9365831640713158\n",
            "Auto & Vehicles : 0.9252990295644324\n",
            "Strategy : 0.9140148950575491\n",
            "House & Home : 0.8237418190024826\n",
            "Weather : 0.8011735499887158\n",
            "Events : 0.7109004739336493\n",
            "Adventure : 0.6770480704129994\n",
            "Comics : 0.6093432633716994\n",
            "Art & Design : 0.598059128864816\n",
            "Beauty : 0.598059128864816\n",
            "Parenting : 0.49650191830286616\n",
            "Card : 0.4400812457684496\n",
            "Casino : 0.4287971112615662\n",
            "Trivia : 0.41751297675468296\n",
            "Educational;Education : 0.3949447077409162\n",
            "Board : 0.3723764387271496\n",
            "Educational : 0.3723764387271496\n",
            "Education;Education : 0.3385240352064997\n",
            "Word : 0.2595350936583164\n",
            "Casual;Pretend Play : 0.23696682464454977\n",
            "Music : 0.2031144211238998\n",
            "Puzzle;Brain Games : 0.18054615211013314\n",
            "Entertainment;Music & Video : 0.16926201760324985\n",
            "Racing;Action & Adventure : 0.16926201760324985\n",
            "Casual;Brain Games : 0.13540961408259986\n",
            "Casual;Action & Adventure : 0.13540961408259986\n",
            "Arcade;Action & Adventure : 0.12412547957571654\n",
            "Action;Action & Adventure : 0.1015572105619499\n",
            "Educational;Pretend Play : 0.09027307605506657\n",
            "Board;Brain Games : 0.09027307605506657\n",
            "Entertainment;Brain Games : 0.07898894154818326\n",
            "Simulation;Action & Adventure : 0.07898894154818326\n",
            "Parenting;Education : 0.07898894154818326\n",
            "Art & Design;Creativity : 0.06770480704129993\n",
            "Educational;Brain Games : 0.06770480704129993\n",
            "Casual;Creativity : 0.06770480704129993\n",
            "Parenting;Music & Video : 0.06770480704129993\n",
            "Education;Pretend Play : 0.056420672534416606\n",
            "Education;Creativity : 0.045136538027533285\n",
            "Role Playing;Pretend Play : 0.045136538027533285\n",
            "Education;Brain Games : 0.033852403520649964\n",
            "Entertainment;Creativity : 0.033852403520649964\n",
            "Educational;Creativity : 0.033852403520649964\n",
            "Adventure;Action & Adventure : 0.033852403520649964\n",
            "Role Playing;Action & Adventure : 0.033852403520649964\n",
            "Educational;Action & Adventure : 0.033852403520649964\n",
            "Entertainment;Action & Adventure : 0.033852403520649964\n",
            "Puzzle;Action & Adventure : 0.033852403520649964\n",
            "Education;Action & Adventure : 0.033852403520649964\n",
            "Education;Music & Video : 0.033852403520649964\n",
            "Casual;Education : 0.022568269013766643\n",
            "Music;Music & Video : 0.022568269013766643\n",
            "Simulation;Pretend Play : 0.022568269013766643\n",
            "Puzzle;Creativity : 0.022568269013766643\n",
            "Sports;Action & Adventure : 0.022568269013766643\n",
            "Board;Action & Adventure : 0.022568269013766643\n",
            "Entertainment;Pretend Play : 0.022568269013766643\n",
            "Video Players & Editors;Music & Video : 0.022568269013766643\n",
            "Comics;Creativity : 0.011284134506883321\n",
            "Lifestyle;Pretend Play : 0.011284134506883321\n",
            "Card;Brain Games : 0.011284134506883321\n",
            "Art & Design;Pretend Play : 0.011284134506883321\n",
            "Entertainment;Education : 0.011284134506883321\n",
            "Arcade;Pretend Play : 0.011284134506883321\n",
            "Art & Design;Action & Adventure : 0.011284134506883321\n",
            "Strategy;Action & Adventure : 0.011284134506883321\n",
            "Music & Audio;Music & Video : 0.011284134506883321\n",
            "Health & Fitness;Education : 0.011284134506883321\n",
            "Casual;Music & Video : 0.011284134506883321\n",
            "Travel & Local;Action & Adventure : 0.011284134506883321\n",
            "Tools;Education : 0.011284134506883321\n",
            "Parenting;Brain Games : 0.011284134506883321\n",
            "Video Players & Editors;Creativity : 0.011284134506883321\n",
            "Health & Fitness;Action & Adventure : 0.011284134506883321\n",
            "Trivia;Education : 0.011284134506883321\n",
            "Lifestyle;Education : 0.011284134506883321\n",
            "Card;Action & Adventure : 0.011284134506883321\n",
            "Books & Reference;Education : 0.011284134506883321\n",
            "Simulation;Education : 0.011284134506883321\n",
            "Puzzle;Education : 0.011284134506883321\n",
            "Adventure;Education : 0.011284134506883321\n",
            "Role Playing;Brain Games : 0.011284134506883321\n",
            "Strategy;Education : 0.011284134506883321\n",
            "Racing;Pretend Play : 0.011284134506883321\n",
            "Communication;Creativity : 0.011284134506883321\n",
            "Strategy;Creativity : 0.011284134506883321\n"
          ],
          "name": "stdout"
        }
      ]
    },
    {
      "cell_type": "markdown",
      "metadata": {
        "id": "KhBl-sKca5rs"
      },
      "source": [
        "\n",
        "The difference between the Genres and the Category columns is not crystal clear, but one thing we can notice is that the Genres column is much more granular (it has more categories). We're only looking for the bigger picture at the moment, so we'll only work with the Category column moving forward.\n",
        "\n",
        "Up to this point, we found that the App Store is dominated by apps designed for fun, while Google Play shows a more balanced landscape of both practical and for-fun apps. Now we'd like to get an idea about the kind of apps that have most users."
      ]
    },
    {
      "cell_type": "markdown",
      "metadata": {
        "id": "7TRuEg6mbAqc"
      },
      "source": [
        "## **Most Popular Apps by Genre on the App Store**"
      ]
    },
    {
      "cell_type": "markdown",
      "metadata": {
        "id": "71bxYZebbGk5"
      },
      "source": [
        "One way to find out what genres are the most popular (have the most users) is to calculate the average number of installs for each app genre. For the Google Play data set, we can find this information in the Installs column, but for the App Store data set this information is missing. As a workaround, we'll take the total number of user ratings as a proxy, which we can find in the **rating_count_tot** app.\n",
        "\n",
        "Below, we calculate the average number of user ratings per app genre on the App Store:"
      ]
    },
    {
      "cell_type": "code",
      "metadata": {
        "colab": {
          "base_uri": "https://localhost:8080/"
        },
        "id": "dS5LoCrxat2c",
        "outputId": "a879a374-936e-424c-fe8c-171c15f2e0b4"
      },
      "source": [
        "genres_ios = freq_table(ios_final, -5)\n",
        "\n",
        "for genre in genres_ios:\n",
        "    total = 0\n",
        "    len_genre = 0\n",
        "    for app in ios_final:\n",
        "        genre_app = app[-5]\n",
        "        if genre_app == genre:\n",
        "            n_ratings = float(app[5])\n",
        "            total += n_ratings\n",
        "            len_genre += 1\n",
        "    avg_n_ratings = total / len_genre\n",
        "    print(genre, ':', avg_n_ratings)"
      ],
      "execution_count": 30,
      "outputs": [
        {
          "output_type": "stream",
          "text": [
            "Productivity : 21028.410714285714\n",
            "Weather : 52279.892857142855\n",
            "Shopping : 26919.690476190477\n",
            "Reference : 74942.11111111111\n",
            "Finance : 31467.944444444445\n",
            "Music : 57326.530303030304\n",
            "Utilities : 18684.456790123455\n",
            "Travel : 28243.8\n",
            "Social Networking : 71548.34905660378\n",
            "Sports : 23008.898550724636\n",
            "Health & Fitness : 23298.015384615384\n",
            "Games : 22788.6696905016\n",
            "Food & Drink : 33333.92307692308\n",
            "News : 21248.023255813954\n",
            "Book : 39758.5\n",
            "Photo & Video : 28441.54375\n",
            "Entertainment : 14029.830708661417\n",
            "Business : 7491.117647058823\n",
            "Lifestyle : 16485.764705882353\n",
            "Education : 7003.983050847458\n",
            "Navigation : 86090.33333333333\n",
            "Medical : 612.0\n",
            "Catalogs : 4004.0\n"
          ],
          "name": "stdout"
        }
      ]
    },
    {
      "cell_type": "markdown",
      "metadata": {
        "id": "aToFbQdQd9Wm"
      },
      "source": [
        "On average, navigation apps have the highest number of user reviews, but this figure is heavily influenced by Waze and Google Maps, which have close to half a million user reviews together:"
      ]
    },
    {
      "cell_type": "code",
      "metadata": {
        "colab": {
          "base_uri": "https://localhost:8080/"
        },
        "id": "VPNgkE7FcMom",
        "outputId": "12db4bc2-58ef-4141-b39a-939e5ea8d245"
      },
      "source": [
        "for app in ios_final:\n",
        "    if app[-5] == 'Navigation':\n",
        "        print(app[1], ':', app[5]) # print name and number of ratings"
      ],
      "execution_count": 31,
      "outputs": [
        {
          "output_type": "stream",
          "text": [
            "Waze - GPS Navigation, Maps & Real-time Traffic : 345046\n",
            "Geocaching® : 12811\n",
            "ImmobilienScout24: Real Estate Search in Germany : 187\n",
            "Railway Route Search : 5\n",
            "CoPilot GPS – Car Navigation & Offline Maps : 3582\n",
            "Google Maps - Navigation & Transit : 154911\n"
          ],
          "name": "stdout"
        }
      ]
    },
    {
      "cell_type": "markdown",
      "metadata": {
        "id": "b-vlRH2ceoxZ"
      },
      "source": [
        "\n",
        "The same pattern applies to social networking apps, where the average number is heavily influenced by a few giants like Facebook, Pinterest, Skype, etc. Same applies to music apps, where a few big players like Pandora, Spotify, and Shazam heavily influence the average number.\n",
        "\n",
        "Our aim is to find popular genres, but navigation, social networking or music apps might seem more popular than they really are. The average number of ratings seem to be skewed by very few apps which have hundreds of thousands of user ratings, while the other apps may struggle to get past the 10,000 threshold. We could get a better picture by removing these extremely popular apps for each genre and then rework the averages, but we'll leave this level of detail for later.\n",
        "\n",
        "Reference apps have 74,942 user ratings on average, but it's actually the Bible and Dictionary.com which skew up the average rating:"
      ]
    },
    {
      "cell_type": "code",
      "metadata": {
        "colab": {
          "base_uri": "https://localhost:8080/"
        },
        "id": "jHaGtdszeiV8",
        "outputId": "9a3cfa42-8da2-4066-a4d7-d26207daa438"
      },
      "source": [
        "for app in ios_final:\n",
        "    if app[-5] == 'Reference':\n",
        "        print(app[1], ':', app[5])"
      ],
      "execution_count": 32,
      "outputs": [
        {
          "output_type": "stream",
          "text": [
            "Bible : 985920\n",
            "Dictionary.com Dictionary & Thesaurus : 200047\n",
            "Dictionary.com Dictionary & Thesaurus for iPad : 54175\n",
            "Muslim Pro: Ramadan 2017 Prayer Times, Azan, Quran : 18418\n",
            "Merriam-Webster Dictionary : 16849\n",
            "Google Translate : 26786\n",
            "Night Sky : 12122\n",
            "WWDC : 762\n",
            "Jishokun-Japanese English Dictionary & Translator : 0\n",
            "教えて!goo : 0\n",
            "VPN Express : 14\n",
            "New Furniture Mods - Pocket Wiki & Game Tools for Minecraft PC Edition : 17588\n",
            "LUCKY BLOCK MOD ™ for Minecraft PC Edition - The Best Pocket Wiki & Mods Installer Tools : 4693\n",
            "Guides for Pokémon GO - Pokemon GO News and Cheats : 826\n",
            "Horror Maps for Minecraft PE - Download The Scariest Maps for Minecraft Pocket Edition (MCPE) Free : 718\n",
            "City Maps for Minecraft PE - The Best Maps for Minecraft Pocket Edition (MCPE) : 8535\n",
            "GUNS MODS for Minecraft PC Edition - Mods Tools : 1497\n",
            "Real Bike Traffic Rider Virtual Reality Glasses : 8\n"
          ],
          "name": "stdout"
        }
      ]
    },
    {
      "cell_type": "markdown",
      "metadata": {
        "id": "uGFJNl0Lgu0-"
      },
      "source": [
        "However, this niche seems to show some potential. One thing we could do is take another popular book and turn it into an app where we could add different features besides the raw version of the book. This might include daily quotes from the book, an audio version of the book, quizzes about the book, etc. On top of that, we could also embed a dictionary within the app, so users don't need to exit our app to look up words in an external app.\n",
        "\n",
        "This idea seems to fit well with the fact that the App Store is dominated by for-fun apps. This suggests the market might be a bit saturated with for-fun apps, which means a practical app might have more of a chance to stand out among the huge number of apps on the App Store.\n",
        "\n",
        "Other genres that seem popular include weather, book, food and drink, or finance. The book genre seem to overlap a bit with the app idea we described above, but the other genres don't seem too interesting to us:\n",
        "\n",
        "* Weather apps — people generally don't spend too much time in-app, and the chances of making profit from in-app adds are low. Also, getting reliable live weather data may require us to connect our apps to non-free APIs.\n",
        "\n",
        "* Food and drink — examples here include Starbucks, Dunkin' Donuts, McDonald's, etc. So making a popular food and drink app requires actual cooking and a delivery service, which is outside the scope of our company.\n",
        "\n",
        "* Finance apps — these apps involve banking, paying bills, money transfer, etc. Building a finance app requires domain knowledge, and we don't want to hire a finance expert just to build an app.\n",
        "\n",
        "Now let's analyze the Google Play market a bit."
      ]
    },
    {
      "cell_type": "code",
      "metadata": {
        "id": "thby26XfeyiT"
      },
      "source": [
        ""
      ],
      "execution_count": 32,
      "outputs": []
    }
  ]
}