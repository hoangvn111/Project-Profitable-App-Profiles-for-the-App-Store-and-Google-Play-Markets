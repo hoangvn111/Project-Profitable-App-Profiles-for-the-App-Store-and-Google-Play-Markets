{
  "nbformat": 4,
  "nbformat_minor": 0,
  "metadata": {
    "colab": {
      "name": "Project: Profitable App Profiles for the App Store and Google Play Markets.ipynb",
      "provenance": [],
      "authorship_tag": "ABX9TyOvOUwPzgjLTOrFpnSWTlFB",
      "include_colab_link": true
    },
    "kernelspec": {
      "name": "python3",
      "display_name": "Python 3"
    },
    "language_info": {
      "name": "python"
    }
  },
  "cells": [
    {
      "cell_type": "markdown",
      "metadata": {
        "id": "view-in-github",
        "colab_type": "text"
      },
      "source": [
        "<a href=\"https://colab.research.google.com/github/hoangvn111/Project-Profitable-App-Profiles-for-the-App-Store-and-Google-Play-Markets/blob/master/Project_Profitable_App_Profiles_for_the_App_Store_and_Google_Play_Markets.ipynb\" target=\"_parent\"><img src=\"https://colab.research.google.com/assets/colab-badge.svg\" alt=\"Open In Colab\"/></a>"
      ]
    },
    {
      "cell_type": "code",
      "metadata": {
        "id": "gNHtgjp9C8fu",
        "colab": {
          "base_uri": "https://localhost:8080/"
        },
        "outputId": "247feeae-67a6-49ff-b471-03b1e65a92dc"
      },
      "source": [
        "from google.colab import drive \n",
        "drive.mount('/content/drive/')"
      ],
      "execution_count": 1,
      "outputs": [
        {
          "output_type": "stream",
          "text": [
            "Mounted at /content/drive/\n"
          ],
          "name": "stdout"
        }
      ]
    },
    {
      "cell_type": "markdown",
      "metadata": {
        "id": "xvW198P4H5dM"
      },
      "source": [
        "\n",
        "# **Profitable App Profiles for the App Store and Google Play Markets**\n",
        "Our aim in this project is to find mobile app profiles that are profitable for the App Store and Google Play markets. We're working as data analysts for a company that builds Android and iOS mobile apps, and our job is to enable our team of developers to make data-driven decisions with respect to the kind of apps they build.\n",
        "\n",
        "At our company, we only build apps that are free to download and install, and our main source of revenue consists of in-app ads. This means that our revenue for any given app is mostly influenced by the number of users that use our app. Our goal for this project is to analyze data to help our developers understand what kinds of apps are likely to attract more users."
      ]
    },
    {
      "cell_type": "markdown",
      "metadata": {
        "id": "_OhQL6orINDa"
      },
      "source": [
        "## **Opening and Exploring the Data**"
      ]
    },
    {
      "cell_type": "code",
      "metadata": {
        "id": "eqbxy8aYF1X6"
      },
      "source": [
        "import csv\n",
        "\n",
        "open_file = open('/content/drive/MyDrive/my_datasets/Project: Profitable App Profiles for the App Store and Google Play Markets/googleplaystore.csv', encoding='utf8')\n",
        "read_file = csv.reader(open_file)\n",
        "android = list(read_file)\n",
        "android_header = android[0]\n",
        "android = android[1:]\n",
        "\n",
        "open_file = open('/content/drive/MyDrive/my_datasets/Project: Profitable App Profiles for the App Store and Google Play Markets/AppleStore.csv', encoding='utf8')\n",
        "read_file = csv.reader(open_file)\n",
        "ios = list(read_file)\n",
        "\n",
        "# remove first index column\n",
        "for row in ios:\n",
        "  row.pop(0)\n",
        "\n",
        "ios_header = ios[0]\n",
        "ios = ios[1:]\n"
      ],
      "execution_count": 2,
      "outputs": []
    },
    {
      "cell_type": "code",
      "metadata": {
        "id": "Wv10D6ZmNU6T",
        "colab": {
          "base_uri": "https://localhost:8080/"
        },
        "outputId": "994a05ec-5a8b-4347-8cd8-c74a7d4e686a"
      },
      "source": [
        "print(android_header)\n",
        "print('\\n')\n",
        "print(android[:3])\n",
        "print('\\n')\n",
        "print(ios_header)\n",
        "print('\\n')\n",
        "print(ios[:3])"
      ],
      "execution_count": 3,
      "outputs": [
        {
          "output_type": "stream",
          "text": [
            "['App', 'Category', 'Rating', 'Reviews', 'Size', 'Installs', 'Type', 'Price', 'Content Rating', 'Genres', 'Last Updated', 'Current Ver', 'Android Ver']\n",
            "\n",
            "\n",
            "[['Photo Editor & Candy Camera & Grid & ScrapBook', 'ART_AND_DESIGN', '4.1', '159', '19M', '10,000+', 'Free', '0', 'Everyone', 'Art & Design', 'January 7, 2018', '1.0.0', '4.0.3 and up'], ['Coloring book moana', 'ART_AND_DESIGN', '3.9', '967', '14M', '500,000+', 'Free', '0', 'Everyone', 'Art & Design;Pretend Play', 'January 15, 2018', '2.0.0', '4.0.3 and up'], ['U Launcher Lite – FREE Live Cool Themes, Hide Apps', 'ART_AND_DESIGN', '4.7', '87510', '8.7M', '5,000,000+', 'Free', '0', 'Everyone', 'Art & Design', 'August 1, 2018', '1.2.4', '4.0.3 and up']]\n",
            "\n",
            "\n",
            "['id', 'track_name', 'size_bytes', 'currency', 'price', 'rating_count_tot', 'rating_count_ver', 'user_rating', 'user_rating_ver', 'ver', 'cont_rating', 'prime_genre', 'sup_devices.num', 'ipadSc_urls.num', 'lang.num', 'vpp_lic']\n",
            "\n",
            "\n",
            "[['281656475', 'PAC-MAN Premium', '100788224', 'USD', '3.99', '21292', '26', '4', '4.5', '6.3.5', '4+', 'Games', '38', '5', '10', '1'], ['281796108', 'Evernote - stay organized', '158578688', 'USD', '0', '161065', '26', '4', '3.5', '8.2.2', '4+', 'Productivity', '37', '5', '23', '1'], ['281940292', 'WeatherBug - Local Weather, Radar, Maps, Alerts', '100524032', 'USD', '0', '188583', '2822', '3.5', '4.5', '5.0.0', '4+', 'Weather', '37', '5', '3', '1']]\n"
          ],
          "name": "stdout"
        }
      ]
    },
    {
      "cell_type": "markdown",
      "metadata": {
        "id": "O6zw5rrsM1OR"
      },
      "source": [
        "\n",
        "To make it easier to explore the two data sets, we'll first write a function named **explore_data()** that we can use repeatedly to explore rows in a more readable way. We'll also add an option for our function to show the number of rows and columns for any data set.\n",
        "\n",
        "\n"
      ]
    },
    {
      "cell_type": "code",
      "metadata": {
        "id": "iqt3lobGJ0An"
      },
      "source": [
        "def explore_data(dataset, start, end, rows_and_columns=False):\n",
        "  dataset_slice = dataset[start:end]\n",
        "  for row in dataset_slice:\n",
        "    print(row)\n",
        "    print('\\n') # add a new empty line between rows\n",
        "\n",
        "  if rows_and_columns:\n",
        "    print('Number of rows:', len(dataset))\n",
        "    print('Number of columns:', len(row))"
      ],
      "execution_count": 4,
      "outputs": []
    },
    {
      "cell_type": "code",
      "metadata": {
        "id": "RNWPFljONPmq",
        "colab": {
          "base_uri": "https://localhost:8080/"
        },
        "outputId": "aea36443-5c82-4555-c3f7-b6fc4a6389a6"
      },
      "source": [
        "print(android_header)\n",
        "print('\\n')\n",
        "print(explore_data(android, 0, 3, True))"
      ],
      "execution_count": 5,
      "outputs": [
        {
          "output_type": "stream",
          "text": [
            "['App', 'Category', 'Rating', 'Reviews', 'Size', 'Installs', 'Type', 'Price', 'Content Rating', 'Genres', 'Last Updated', 'Current Ver', 'Android Ver']\n",
            "\n",
            "\n",
            "['Photo Editor & Candy Camera & Grid & ScrapBook', 'ART_AND_DESIGN', '4.1', '159', '19M', '10,000+', 'Free', '0', 'Everyone', 'Art & Design', 'January 7, 2018', '1.0.0', '4.0.3 and up']\n",
            "\n",
            "\n",
            "['Coloring book moana', 'ART_AND_DESIGN', '3.9', '967', '14M', '500,000+', 'Free', '0', 'Everyone', 'Art & Design;Pretend Play', 'January 15, 2018', '2.0.0', '4.0.3 and up']\n",
            "\n",
            "\n",
            "['U Launcher Lite – FREE Live Cool Themes, Hide Apps', 'ART_AND_DESIGN', '4.7', '87510', '8.7M', '5,000,000+', 'Free', '0', 'Everyone', 'Art & Design', 'August 1, 2018', '1.2.4', '4.0.3 and up']\n",
            "\n",
            "\n",
            "Number of rows: 10841\n",
            "Number of columns: 13\n",
            "None\n"
          ],
          "name": "stdout"
        }
      ]
    },
    {
      "cell_type": "markdown",
      "metadata": {
        "id": "-b96_6BqO5Y-"
      },
      "source": [
        "We see that the Google Play data set has 10841 apps and 13 columns. At a quick glance, the columns that might be useful for the purpose of our analysis are '**App**', '**Category**', '**Reviews**', '**Installs**', '**Type**', '**Price**', and '**Genres**'.\n",
        "\n",
        "Now let's take a look at the App Store data set."
      ]
    },
    {
      "cell_type": "code",
      "metadata": {
        "id": "snlD8wYHNvFv",
        "colab": {
          "base_uri": "https://localhost:8080/"
        },
        "outputId": "c1341572-6d2c-4986-f527-e46a50eae434"
      },
      "source": [
        "print(ios_header)\n",
        "print('\\n')\n",
        "explore_data(ios, 0, 3, True)"
      ],
      "execution_count": 6,
      "outputs": [
        {
          "output_type": "stream",
          "text": [
            "['id', 'track_name', 'size_bytes', 'currency', 'price', 'rating_count_tot', 'rating_count_ver', 'user_rating', 'user_rating_ver', 'ver', 'cont_rating', 'prime_genre', 'sup_devices.num', 'ipadSc_urls.num', 'lang.num', 'vpp_lic']\n",
            "\n",
            "\n",
            "['281656475', 'PAC-MAN Premium', '100788224', 'USD', '3.99', '21292', '26', '4', '4.5', '6.3.5', '4+', 'Games', '38', '5', '10', '1']\n",
            "\n",
            "\n",
            "['281796108', 'Evernote - stay organized', '158578688', 'USD', '0', '161065', '26', '4', '3.5', '8.2.2', '4+', 'Productivity', '37', '5', '23', '1']\n",
            "\n",
            "\n",
            "['281940292', 'WeatherBug - Local Weather, Radar, Maps, Alerts', '100524032', 'USD', '0', '188583', '2822', '3.5', '4.5', '5.0.0', '4+', 'Weather', '37', '5', '3', '1']\n",
            "\n",
            "\n",
            "Number of rows: 7197\n",
            "Number of columns: 16\n"
          ],
          "name": "stdout"
        }
      ]
    },
    {
      "cell_type": "code",
      "metadata": {
        "id": "WsAMggs0FWuj"
      },
      "source": [
        ""
      ],
      "execution_count": null,
      "outputs": []
    },
    {
      "cell_type": "markdown",
      "metadata": {
        "id": "Js4YquEUTl58"
      },
      "source": [
        "We have 7197 iOS apps in this data set, and the columns that seem interesting are: '**track_name**', '**currency**', '**price**', '**rating_count_tot**', '**rating_count_ver**', and '**prime_genre**'. Not all column names are self-explanatory in this case, but details about each column can be found in the data set [documentation.](https://www.kaggle.com/ramamet4/app-store-apple-data-set-10k-apps/home)"
      ]
    },
    {
      "cell_type": "markdown",
      "metadata": {
        "id": "5930AfFnTfxH"
      },
      "source": [
        "## **Deleting Wrong Data**"
      ]
    },
    {
      "cell_type": "markdown",
      "metadata": {
        "id": "FQ97Yls_VOvO"
      },
      "source": [
        "Write a function **find_missing_data()** to compare length of each row with length of header and find the index of row has wrong length => wrong data"
      ]
    },
    {
      "cell_type": "code",
      "metadata": {
        "id": "F--D3wuXPUx3"
      },
      "source": [
        "def find_missing_data(dataset, header):\n",
        "  count_err_rows = 0\n",
        "  for row in dataset:\n",
        "    if len(row) != len(header):\n",
        "      index = dataset.index(row)\n",
        "      print('row {} has wrong length'.format(index))\n",
        "      count_err_rows += 1\n",
        "    else:\n",
        "      count_err_rows = count_err_rows\n",
        "  if count_err_rows == 0:\n",
        "    result = 'Dataset has 0 rows wrong length'\n",
        "    return result"
      ],
      "execution_count": 7,
      "outputs": []
    },
    {
      "cell_type": "code",
      "metadata": {
        "id": "UkkJFSGMW_WM",
        "colab": {
          "base_uri": "https://localhost:8080/"
        },
        "outputId": "dcda6fa1-5117-4245-89bb-77ddac4c857d"
      },
      "source": [
        "find_missing_data(android, android_header)"
      ],
      "execution_count": 8,
      "outputs": [
        {
          "output_type": "stream",
          "text": [
            "row 10472 has wrong length\n"
          ],
          "name": "stdout"
        }
      ]
    },
    {
      "cell_type": "code",
      "metadata": {
        "id": "Nnm391n4ZDds",
        "colab": {
          "base_uri": "https://localhost:8080/"
        },
        "outputId": "9804262f-faa4-4c70-b095-24c09ef5196d"
      },
      "source": [
        "print(android[10472])\n",
        "print('\\n')\n",
        "print(android_header)\n",
        "print('\\n')\n",
        "print(android[0])"
      ],
      "execution_count": 9,
      "outputs": [
        {
          "output_type": "stream",
          "text": [
            "['Life Made WI-Fi Touchscreen Photo Frame', '1.9', '19', '3.0M', '1,000+', 'Free', '0', 'Everyone', '', 'February 11, 2018', '1.0.19', '4.0 and up']\n",
            "\n",
            "\n",
            "['App', 'Category', 'Rating', 'Reviews', 'Size', 'Installs', 'Type', 'Price', 'Content Rating', 'Genres', 'Last Updated', 'Current Ver', 'Android Ver']\n",
            "\n",
            "\n",
            "['Photo Editor & Candy Camera & Grid & ScrapBook', 'ART_AND_DESIGN', '4.1', '159', '19M', '10,000+', 'Free', '0', 'Everyone', 'Art & Design', 'January 7, 2018', '1.0.0', '4.0.3 and up']\n"
          ],
          "name": "stdout"
        }
      ]
    },
    {
      "cell_type": "markdown",
      "metadata": {
        "id": "wZ8-6cxpcOBa"
      },
      "source": [
        "The row 10472 corresponds to the app ***Life Made WI-Fi Touchscreen Photo Frame***, and we can see that the rating is **19**. This is clearly off because the maximum rating for a Google Play app is **5** , this problem is caused by a **missing value in the 'Category'** column. As a consequence, we'll delete this row."
      ]
    },
    {
      "cell_type": "code",
      "metadata": {
        "id": "AeA3t-S4aNxf",
        "colab": {
          "base_uri": "https://localhost:8080/"
        },
        "outputId": "9b6aa75e-8b2f-4359-ef7c-8b27d0c99e65"
      },
      "source": [
        "print(len(android))\n",
        "del android[10472]\n",
        "print(len(android))"
      ],
      "execution_count": 10,
      "outputs": [
        {
          "output_type": "stream",
          "text": [
            "10841\n",
            "10840\n"
          ],
          "name": "stdout"
        }
      ]
    },
    {
      "cell_type": "code",
      "metadata": {
        "id": "wsrq9F_maLzB",
        "colab": {
          "base_uri": "https://localhost:8080/",
          "height": 35
        },
        "outputId": "cc1bcc44-a0d1-4440-edf1-c72a2e1a465c"
      },
      "source": [
        "find_missing_data(ios, ios_header)"
      ],
      "execution_count": 11,
      "outputs": [
        {
          "output_type": "execute_result",
          "data": {
            "application/vnd.google.colaboratory.intrinsic+json": {
              "type": "string"
            },
            "text/plain": [
              "'Dataset has 0 rows wrong length'"
            ]
          },
          "metadata": {
            "tags": []
          },
          "execution_count": 11
        }
      ]
    },
    {
      "cell_type": "markdown",
      "metadata": {
        "id": "enY4Hgm7dbsI"
      },
      "source": [
        "## **Removing Duplicate Entries**\n"
      ]
    },
    {
      "cell_type": "markdown",
      "metadata": {
        "id": "xti7F9JPdkFI"
      },
      "source": [
        "### **Part One**"
      ]
    },
    {
      "cell_type": "markdown",
      "metadata": {
        "id": "fYGOTXrRdqiD"
      },
      "source": [
        "If we explore the Google Play data set long enough, we'll find that some apps have more than one entry. For instance, the application *Instagram* has four entries:"
      ]
    },
    {
      "cell_type": "code",
      "metadata": {
        "id": "cx7fFBIAeAme",
        "colab": {
          "base_uri": "https://localhost:8080/"
        },
        "outputId": "62e49c6d-6b86-45ae-a2ff-8c229ed55127"
      },
      "source": [
        "android_header"
      ],
      "execution_count": 12,
      "outputs": [
        {
          "output_type": "execute_result",
          "data": {
            "text/plain": [
              "['App',\n",
              " 'Category',\n",
              " 'Rating',\n",
              " 'Reviews',\n",
              " 'Size',\n",
              " 'Installs',\n",
              " 'Type',\n",
              " 'Price',\n",
              " 'Content Rating',\n",
              " 'Genres',\n",
              " 'Last Updated',\n",
              " 'Current Ver',\n",
              " 'Android Ver']"
            ]
          },
          "metadata": {
            "tags": []
          },
          "execution_count": 12
        }
      ]
    },
    {
      "cell_type": "code",
      "metadata": {
        "id": "JRbYa9JsdT_j",
        "colab": {
          "base_uri": "https://localhost:8080/"
        },
        "outputId": "123c8306-9d17-498a-f2e2-ce18be56b80f"
      },
      "source": [
        "for app in android:\n",
        "  name = app[0]\n",
        "  if name == 'Instagram':\n",
        "    print(app)"
      ],
      "execution_count": 13,
      "outputs": [
        {
          "output_type": "stream",
          "text": [
            "['Instagram', 'SOCIAL', '4.5', '66577313', 'Varies with device', '1,000,000,000+', 'Free', '0', 'Teen', 'Social', 'July 31, 2018', 'Varies with device', 'Varies with device']\n",
            "['Instagram', 'SOCIAL', '4.5', '66577446', 'Varies with device', '1,000,000,000+', 'Free', '0', 'Teen', 'Social', 'July 31, 2018', 'Varies with device', 'Varies with device']\n",
            "['Instagram', 'SOCIAL', '4.5', '66577313', 'Varies with device', '1,000,000,000+', 'Free', '0', 'Teen', 'Social', 'July 31, 2018', 'Varies with device', 'Varies with device']\n",
            "['Instagram', 'SOCIAL', '4.5', '66509917', 'Varies with device', '1,000,000,000+', 'Free', '0', 'Teen', 'Social', 'July 31, 2018', 'Varies with device', 'Varies with device']\n"
          ],
          "name": "stdout"
        }
      ]
    },
    {
      "cell_type": "code",
      "metadata": {
        "id": "H3HvQnOMd32u",
        "colab": {
          "base_uri": "https://localhost:8080/"
        },
        "outputId": "bccc3c30-003f-4940-d649-7642baa875e5"
      },
      "source": [
        "duplicate_apps = []\n",
        "unique_apps = []\n",
        "\n",
        "for app in android:\n",
        "  name = app[0]\n",
        "  if name in unique_apps:\n",
        "    duplicate_apps.append(name)\n",
        "  else:\n",
        "    unique_apps.append(name)\n",
        "\n",
        "print('Number of duplicate apps:', len(duplicate_apps))\n",
        "print('\\n')\n",
        "print('Number of unique apps:', len(unique_apps))"
      ],
      "execution_count": 14,
      "outputs": [
        {
          "output_type": "stream",
          "text": [
            "Number of duplicate apps: 1181\n",
            "\n",
            "\n",
            "Number of unique apps: 9659\n"
          ],
          "name": "stdout"
        }
      ]
    },
    {
      "cell_type": "markdown",
      "metadata": {
        "id": "qzFyteYPx6hl"
      },
      "source": [
        "We don't want to count certain apps more than once when we analyze data, so we need to remove the duplicate entries and keep only one entry per app. One thing we could do is remove the duplicate rows randomly, but we could probably find a better way.\n",
        "\n",
        "If you examine the rows we printed two cells above for the Instagram app, the main difference happens on the fourth position of each row, which corresponds to the number of reviews. The different numbers show that the data was collected at different times. We can use this to build a criterion for keeping rows. We won't remove rows randomly, but rather we'll keep the rows that have the highest number of reviews because the higher the number of reviews, the more reliable the ratings.\n",
        "\n",
        "To do that, we will:\n",
        "\n",
        "* Create a dictionary where each key is a unique app name, and the value is the highest number of reviews of that app\n",
        "\n",
        "* Use the dictionary to create a new data set, which will have only one entry per app (and we only select the apps with the highest number of reviews)"
      ]
    },
    {
      "cell_type": "markdown",
      "metadata": {
        "id": "RyW4n2YNyoNj"
      },
      "source": [
        "### **Part Two**\n",
        "Let's start by building the dictionary."
      ]
    },
    {
      "cell_type": "code",
      "metadata": {
        "id": "kzqw-BrMx0Rp"
      },
      "source": [
        "reviews_max = {}\n",
        "\n",
        "for app in android:\n",
        "  name = app[0]\n",
        "  n_reviews = app[3]\n",
        "  if name in reviews_max and n_reviews > reviews_max[name]:\n",
        "    reviews_max[name] = n_reviews\n",
        "  elif name not in reviews_max:\n",
        "    reviews_max[name] = n_reviews\n"
      ],
      "execution_count": 15,
      "outputs": []
    },
    {
      "cell_type": "code",
      "metadata": {
        "id": "kZAF0ii80Bq_",
        "colab": {
          "base_uri": "https://localhost:8080/"
        },
        "outputId": "c780f3c8-8437-4d26-dd22-4e8bf43b629d"
      },
      "source": [
        "print('Expect length:', len(unique_apps))\n",
        "print('Actual length:', len(reviews_max))"
      ],
      "execution_count": 16,
      "outputs": [
        {
          "output_type": "stream",
          "text": [
            "Expect length: 9659\n",
            "Actual length: 9659\n"
          ],
          "name": "stdout"
        }
      ]
    },
    {
      "cell_type": "markdown",
      "metadata": {
        "id": "nMt6dCRD023-"
      },
      "source": [
        "Now, let's use the reviews_max dictionary to remove the duplicates. For the duplicate cases, we'll only keep the entries with the highest number of reviews. In the code cell below:\n",
        "\n",
        "* We start by initializing two empty lists, android_clean and already_added.\n",
        "* We loop through the android data set, and for every iteration:\n",
        " - We isolate the name of the app and the number of reviews.\n",
        " - We add the current row (app) to the android_clean list, and the app name (name) to the already_added list if:\n",
        "    - The number of reviews of the current app matches the number of reviews of that app as described in the reviews_max dictionary; and\n",
        "    - The name of the app is not already in the already_added list. We need to add this supplementary condition to account for those cases where the highest number of reviews of a duplicate app is the same for more than one entry (for example, the Box app has three entries, and the number of reviews is the same). If we just check for reviews_max[name] == n_reviews, we'll still end up with duplicate entries for some apps."
      ]
    },
    {
      "cell_type": "code",
      "metadata": {
        "id": "pO4d6v8H0E0M"
      },
      "source": [
        "android_clean = []\n",
        "already_added = []\n",
        "\n",
        "for app in android:\n",
        "  name = app[0]\n",
        "  n_reviews = app[3]\n",
        "\n",
        "  if (reviews_max[name] == n_reviews) and (name not in already_added):\n",
        "    android_clean.append(app)\n",
        "    already_added.append(name)"
      ],
      "execution_count": 17,
      "outputs": []
    },
    {
      "cell_type": "code",
      "metadata": {
        "id": "FbrNZ-e729uN",
        "colab": {
          "base_uri": "https://localhost:8080/"
        },
        "outputId": "8877fccc-ea18-44bf-fe1b-836a77b38f66"
      },
      "source": [
        "explore_data(android_clean, 0, 3, True)"
      ],
      "execution_count": 18,
      "outputs": [
        {
          "output_type": "stream",
          "text": [
            "['Photo Editor & Candy Camera & Grid & ScrapBook', 'ART_AND_DESIGN', '4.1', '159', '19M', '10,000+', 'Free', '0', 'Everyone', 'Art & Design', 'January 7, 2018', '1.0.0', '4.0.3 and up']\n",
            "\n",
            "\n",
            "['U Launcher Lite – FREE Live Cool Themes, Hide Apps', 'ART_AND_DESIGN', '4.7', '87510', '8.7M', '5,000,000+', 'Free', '0', 'Everyone', 'Art & Design', 'August 1, 2018', '1.2.4', '4.0.3 and up']\n",
            "\n",
            "\n",
            "['Sketch - Draw & Paint', 'ART_AND_DESIGN', '4.5', '215644', '25M', '50,000,000+', 'Free', '0', 'Teen', 'Art & Design', 'June 8, 2018', 'Varies with device', '4.2 and up']\n",
            "\n",
            "\n",
            "Number of rows: 9659\n",
            "Number of columns: 13\n"
          ],
          "name": "stdout"
        }
      ]
    },
    {
      "cell_type": "markdown",
      "metadata": {
        "id": "pxUg9iXx6Cfb"
      },
      "source": [
        "\n",
        "We have 9659 rows, just as expected"
      ]
    },
    {
      "cell_type": "markdown",
      "metadata": {
        "id": "LZPKwwPyAqPV"
      },
      "source": [
        "## **Removing Non-English Apps**"
      ]
    },
    {
      "cell_type": "markdown",
      "metadata": {
        "id": "826yWxLVAubX"
      },
      "source": [
        "### **Part One**"
      ]
    },
    {
      "cell_type": "markdown",
      "metadata": {
        "id": "-aVlaLL7Azuw"
      },
      "source": [
        "If you explore the data sets enough, you'll notice the names of some of the apps suggest they are not directed toward an English-speaking audience. Below, we see a couple of examples from both data sets:"
      ]
    },
    {
      "cell_type": "code",
      "metadata": {
        "id": "J5hT_l7j3AxT",
        "colab": {
          "base_uri": "https://localhost:8080/"
        },
        "outputId": "1347ff31-1ad2-46fe-a15b-fbc7e0da6a91"
      },
      "source": [
        "print(ios[814][1])\n",
        "print(ios[6734][1])\n",
        "\n",
        "print(android_clean[4415][0])\n",
        "print(android_clean[7941][0])"
      ],
      "execution_count": 31,
      "outputs": [
        {
          "output_type": "stream",
          "text": [
            "搜狐新闻—新闻热点资讯掌上阅读软件\n",
            "エレメンタル ファンタジー - 高精細３ＤアクションＲＰＧ\n",
            "中国語 AQリスニング\n",
            "لعبة تقدر تربح DZ\n"
          ],
          "name": "stdout"
        }
      ]
    },
    {
      "cell_type": "markdown",
      "metadata": {
        "id": "0Sg-baFeCfuf"
      },
      "source": [
        "We're not interested in keeping these kind of apps, so we'll remove them. One way to go about this is to remove each app whose name contains a symbol that is not commonly used in English text — English text usually includes letters from the English alphabet, numbers composed of digits from 0 to 9, punctuation marks (., !, ?, ;, etc.), and other symbols (+, *, /, etc.).\n",
        "\n",
        "All these characters that are specific to English texts are encoded using the ASCII standard. Each ASCII character has a corresponding number between 0 and 127 associated with it, and we can take advantage of that to build a function that checks an app name and tells us whether it contains non-ASCII characters.\n",
        "\n",
        "We built this function below, and we use the built-in ord() function to find out the corresponding encoding number of each character."
      ]
    },
    {
      "cell_type": "code",
      "metadata": {
        "id": "JwlEvxR5A2Xa",
        "colab": {
          "base_uri": "https://localhost:8080/"
        },
        "outputId": "051aa4d9-8992-4b72-a7f1-475c540d6f4b"
      },
      "source": [
        "def is_english(string):\n",
        "  for char in string:\n",
        "    if ord(char) > 127:\n",
        "      return False\n",
        "  \n",
        "  return True\n",
        "\n",
        "print(is_english('Instagram'))\n",
        "print(is_english('爱奇艺PPS -《欢乐颂2》电视剧热播'))"
      ],
      "execution_count": 33,
      "outputs": [
        {
          "output_type": "stream",
          "text": [
            "True\n",
            "False\n"
          ],
          "name": "stdout"
        }
      ]
    },
    {
      "cell_type": "markdown",
      "metadata": {
        "id": "QgQnCefXCotB"
      },
      "source": [
        "\n",
        "The function seems to work fine, but some English app names use emojis or other symbols (™, — (em dash), – (en dash), etc.) that fall outside of the ASCII range. Because of this, we'll remove useful apps if we use the function in its current form."
      ]
    },
    {
      "cell_type": "code",
      "metadata": {
        "colab": {
          "base_uri": "https://localhost:8080/"
        },
        "id": "juBzYMocCiZ6",
        "outputId": "94a4a26e-e466-4fd1-9f95-3b7b2a7f1017"
      },
      "source": [
        "print(is_english('Docs To Go™ Free Office Suite'))\n",
        "print(is_english('Instachat 😜'))\n",
        "\n",
        "print(ord('™'))\n",
        "print(ord('😜'))"
      ],
      "execution_count": 34,
      "outputs": [
        {
          "output_type": "stream",
          "text": [
            "False\n",
            "False\n",
            "8482\n",
            "128540\n"
          ],
          "name": "stdout"
        }
      ]
    },
    {
      "cell_type": "code",
      "metadata": {
        "colab": {
          "base_uri": "https://localhost:8080/"
        },
        "id": "P8sAO9yfCroA",
        "outputId": "855b845a-eb6c-4477-b1e4-8e4b3a929f53"
      },
      "source": [
        "def is_english(string):\n",
        "  non_ascii = 0\n",
        "\n",
        "  for char in string:\n",
        "    if ord(char) > 127:\n",
        "      non_ascii += 1\n",
        "  if non_ascii > 3:\n",
        "    return False\n",
        "  else:\n",
        "    return True\n",
        "\n",
        "print(is_english('Docs To Go™ Free Office Suite'))\n",
        "print(is_english('Instachat 😜'))"
      ],
      "execution_count": 37,
      "outputs": [
        {
          "output_type": "stream",
          "text": [
            "True\n",
            "True\n"
          ],
          "name": "stdout"
        }
      ]
    },
    {
      "cell_type": "markdown",
      "metadata": {
        "id": "me9kEdbaDmPh"
      },
      "source": [
        "The function is still not perfect, and very few non-English apps might get past our filter, but this seems good enough at this point in our analysis — we shouldn't spend too much time on optimization at this point.\n",
        "\n",
        "Below, we use the is_english() function to filter out the non-English apps for both data sets:"
      ]
    },
    {
      "cell_type": "code",
      "metadata": {
        "id": "RhQ2iMsCDZey"
      },
      "source": [
        "android_english = []\n",
        "ios_english = []\n",
        "\n",
        "for app in ios:\n",
        "  name = app[1] \n",
        "  if is_english(name):\n",
        "    ios_english.append(app)\n",
        "\n",
        "for app in android_clean:\n",
        "  name = app[0]\n",
        "  if is_english(name):\n",
        "    android_english.append(app)"
      ],
      "execution_count": 40,
      "outputs": []
    },
    {
      "cell_type": "code",
      "metadata": {
        "colab": {
          "base_uri": "https://localhost:8080/"
        },
        "id": "FSITzqDeEcb6",
        "outputId": "29874dc0-8d1a-45dc-c967-2c1dbe90b405"
      },
      "source": [
        "explore_data(android_english, 0, 3, True)\n",
        "print('\\n')\n",
        "explore_data(ios_english, 0, 3, True)"
      ],
      "execution_count": 42,
      "outputs": [
        {
          "output_type": "stream",
          "text": [
            "['Photo Editor & Candy Camera & Grid & ScrapBook', 'ART_AND_DESIGN', '4.1', '159', '19M', '10,000+', 'Free', '0', 'Everyone', 'Art & Design', 'January 7, 2018', '1.0.0', '4.0.3 and up']\n",
            "\n",
            "\n",
            "['U Launcher Lite – FREE Live Cool Themes, Hide Apps', 'ART_AND_DESIGN', '4.7', '87510', '8.7M', '5,000,000+', 'Free', '0', 'Everyone', 'Art & Design', 'August 1, 2018', '1.2.4', '4.0.3 and up']\n",
            "\n",
            "\n",
            "['Sketch - Draw & Paint', 'ART_AND_DESIGN', '4.5', '215644', '25M', '50,000,000+', 'Free', '0', 'Teen', 'Art & Design', 'June 8, 2018', 'Varies with device', '4.2 and up']\n",
            "\n",
            "\n",
            "Number of rows: 9614\n",
            "Number of columns: 13\n",
            "\n",
            "\n",
            "['281656475', 'PAC-MAN Premium', '100788224', 'USD', '3.99', '21292', '26', '4', '4.5', '6.3.5', '4+', 'Games', '38', '5', '10', '1']\n",
            "\n",
            "\n",
            "['281796108', 'Evernote - stay organized', '158578688', 'USD', '0', '161065', '26', '4', '3.5', '8.2.2', '4+', 'Productivity', '37', '5', '23', '1']\n",
            "\n",
            "\n",
            "['281940292', 'WeatherBug - Local Weather, Radar, Maps, Alerts', '100524032', 'USD', '0', '188583', '2822', '3.5', '4.5', '5.0.0', '4+', 'Weather', '37', '5', '3', '1']\n",
            "\n",
            "\n",
            "Number of rows: 6183\n",
            "Number of columns: 16\n"
          ],
          "name": "stdout"
        }
      ]
    },
    {
      "cell_type": "markdown",
      "metadata": {
        "id": "IgMp2hJvE07-"
      },
      "source": [
        "We can see that we're left with 9614 Android apps and 6183 iOS apps."
      ]
    },
    {
      "cell_type": "markdown",
      "metadata": {
        "id": "O4n-kimeE42g"
      },
      "source": [
        "## **Isolating the Free Apps**"
      ]
    },
    {
      "cell_type": "markdown",
      "metadata": {
        "id": "AI9EC9q5FALH"
      },
      "source": [
        "As we mentioned in the introduction, we only build apps that are free to download and install, and our main source of revenue consists of in-app ads. Our data sets contain both free and non-free apps, and we'll need to isolate only the free apps for our analysis. Below, we isolate the free apps for both our data sets."
      ]
    },
    {
      "cell_type": "code",
      "metadata": {
        "colab": {
          "base_uri": "https://localhost:8080/"
        },
        "id": "niY3S84aEp0v",
        "outputId": "c66ff751-cbcf-4573-d62d-1ca6d048f3a3"
      },
      "source": [
        "android_final = []\n",
        "ios_final = []\n",
        "\n",
        "for app in android_english:\n",
        "  price = app[7]\n",
        "  price = app[7].replace('$', '')\n",
        "  price = float(price)\n",
        "  if price == 0:\n",
        "    android_final.append(app)\n",
        "\n",
        "for app in ios_english:\n",
        "  price = float(app[4])\n",
        "  if price == 0: \n",
        "    ios_final.append(app)\n",
        "\n",
        "print(len(android_final))\n",
        "print(len(ios_final))"
      ],
      "execution_count": 57,
      "outputs": [
        {
          "output_type": "stream",
          "text": [
            "8862\n",
            "3222\n"
          ],
          "name": "stdout"
        }
      ]
    },
    {
      "cell_type": "markdown",
      "metadata": {
        "id": "Yv5IyyoNI3Y9"
      },
      "source": [
        "We're left with 8864 Android apps and 3222 iOS apps, which should be enough for our analysis.\n",
        "\n"
      ]
    },
    {
      "cell_type": "code",
      "metadata": {
        "id": "-2yqY9esGhUb"
      },
      "source": [
        ""
      ],
      "execution_count": null,
      "outputs": []
    }
  ]
}