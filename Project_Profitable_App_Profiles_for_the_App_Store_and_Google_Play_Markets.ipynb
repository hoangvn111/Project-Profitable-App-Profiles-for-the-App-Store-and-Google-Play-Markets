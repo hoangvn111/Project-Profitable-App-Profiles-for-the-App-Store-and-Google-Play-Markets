{
  "nbformat": 4,
  "nbformat_minor": 0,
  "metadata": {
    "colab": {
      "name": "Project: Profitable App Profiles for the App Store and Google Play Markets.ipynb",
      "provenance": [],
      "authorship_tag": "ABX9TyNvDk71FERyQbI0OSM3OFEm",
      "include_colab_link": true
    },
    "kernelspec": {
      "name": "python3",
      "display_name": "Python 3"
    },
    "language_info": {
      "name": "python"
    }
  },
  "cells": [
    {
      "cell_type": "markdown",
      "metadata": {
        "id": "view-in-github",
        "colab_type": "text"
      },
      "source": [
        "<a href=\"https://colab.research.google.com/github/hoangvn111/Project-Profitable-App-Profiles-for-the-App-Store-and-Google-Play-Markets/blob/master/Project_Profitable_App_Profiles_for_the_App_Store_and_Google_Play_Markets.ipynb\" target=\"_parent\"><img src=\"https://colab.research.google.com/assets/colab-badge.svg\" alt=\"Open In Colab\"/></a>"
      ]
    },
    {
      "cell_type": "code",
      "metadata": {
        "id": "gNHtgjp9C8fu",
        "colab": {
          "base_uri": "https://localhost:8080/"
        },
        "outputId": "567e27fc-ad4e-413e-bebd-5e7261c4eea0"
      },
      "source": [
        "from google.colab import drive \n",
        "drive.mount('/content/drive/')"
      ],
      "execution_count": 1,
      "outputs": [
        {
          "output_type": "stream",
          "text": [
            "Drive already mounted at /content/drive/; to attempt to forcibly remount, call drive.mount(\"/content/drive/\", force_remount=True).\n"
          ],
          "name": "stdout"
        }
      ]
    },
    {
      "cell_type": "markdown",
      "metadata": {
        "id": "xvW198P4H5dM"
      },
      "source": [
        "\n",
        "# **Profitable App Profiles for the App Store and Google Play Markets**\n",
        "Our aim in this project is to find mobile app profiles that are profitable for the App Store and Google Play markets. We're working as data analysts for a company that builds Android and iOS mobile apps, and our job is to enable our team of developers to make data-driven decisions with respect to the kind of apps they build.\n",
        "\n",
        "At our company, we only build apps that are free to download and install, and our main source of revenue consists of in-app ads. This means that our revenue for any given app is mostly influenced by the number of users that use our app. Our goal for this project is to analyze data to help our developers understand what kinds of apps are likely to attract more users."
      ]
    },
    {
      "cell_type": "markdown",
      "metadata": {
        "id": "_OhQL6orINDa"
      },
      "source": [
        "## **Opening and Exploring the Data**"
      ]
    },
    {
      "cell_type": "code",
      "metadata": {
        "id": "eqbxy8aYF1X6"
      },
      "source": [
        "import csv\n",
        "\n",
        "open_file = open('/content/drive/MyDrive/my_datasets/Project: Profitable App Profiles for the App Store and Google Play Markets/googleplaystore.csv', encoding='utf8')\n",
        "read_file = csv.reader(open_file)\n",
        "android = list(read_file)\n",
        "android_header = android[0]\n",
        "android = android[1:]\n",
        "\n",
        "open_file = open('/content/drive/MyDrive/my_datasets/Project: Profitable App Profiles for the App Store and Google Play Markets/AppleStore.csv', encoding='utf8')\n",
        "read_file = csv.reader(open_file)\n",
        "ios = list(read_file)\n",
        "\n",
        "for row in ios:\n",
        "  row.pop(0)\n",
        "\n",
        "\n",
        "ios_header = ios[0]\n",
        "ios = ios[1:]\n"
      ],
      "execution_count": 2,
      "outputs": []
    },
    {
      "cell_type": "code",
      "metadata": {
        "colab": {
          "base_uri": "https://localhost:8080/"
        },
        "id": "Wv10D6ZmNU6T",
        "outputId": "0d93b415-5a3d-4c43-d2d6-1a39716452b1"
      },
      "source": [
        "print(android_header)\n",
        "print('\\n')\n",
        "print(android[:10])\n",
        "print('\\n')\n",
        "print(ios_header)\n",
        "print('\\n')\n",
        "print(ios[:10])"
      ],
      "execution_count": 3,
      "outputs": [
        {
          "output_type": "stream",
          "text": [
            "['App', 'Category', 'Rating', 'Reviews', 'Size', 'Installs', 'Type', 'Price', 'Content Rating', 'Genres', 'Last Updated', 'Current Ver', 'Android Ver']\n",
            "\n",
            "\n",
            "[['Photo Editor & Candy Camera & Grid & ScrapBook', 'ART_AND_DESIGN', '4.1', '159', '19M', '10,000+', 'Free', '0', 'Everyone', 'Art & Design', 'January 7, 2018', '1.0.0', '4.0.3 and up'], ['Coloring book moana', 'ART_AND_DESIGN', '3.9', '967', '14M', '500,000+', 'Free', '0', 'Everyone', 'Art & Design;Pretend Play', 'January 15, 2018', '2.0.0', '4.0.3 and up'], ['U Launcher Lite – FREE Live Cool Themes, Hide Apps', 'ART_AND_DESIGN', '4.7', '87510', '8.7M', '5,000,000+', 'Free', '0', 'Everyone', 'Art & Design', 'August 1, 2018', '1.2.4', '4.0.3 and up'], ['Sketch - Draw & Paint', 'ART_AND_DESIGN', '4.5', '215644', '25M', '50,000,000+', 'Free', '0', 'Teen', 'Art & Design', 'June 8, 2018', 'Varies with device', '4.2 and up'], ['Pixel Draw - Number Art Coloring Book', 'ART_AND_DESIGN', '4.3', '967', '2.8M', '100,000+', 'Free', '0', 'Everyone', 'Art & Design;Creativity', 'June 20, 2018', '1.1', '4.4 and up'], ['Paper flowers instructions', 'ART_AND_DESIGN', '4.4', '167', '5.6M', '50,000+', 'Free', '0', 'Everyone', 'Art & Design', 'March 26, 2017', '1.0', '2.3 and up'], ['Smoke Effect Photo Maker - Smoke Editor', 'ART_AND_DESIGN', '3.8', '178', '19M', '50,000+', 'Free', '0', 'Everyone', 'Art & Design', 'April 26, 2018', '1.1', '4.0.3 and up'], ['Infinite Painter', 'ART_AND_DESIGN', '4.1', '36815', '29M', '1,000,000+', 'Free', '0', 'Everyone', 'Art & Design', 'June 14, 2018', '6.1.61.1', '4.2 and up'], ['Garden Coloring Book', 'ART_AND_DESIGN', '4.4', '13791', '33M', '1,000,000+', 'Free', '0', 'Everyone', 'Art & Design', 'September 20, 2017', '2.9.2', '3.0 and up'], ['Kids Paint Free - Drawing Fun', 'ART_AND_DESIGN', '4.7', '121', '3.1M', '10,000+', 'Free', '0', 'Everyone', 'Art & Design;Creativity', 'July 3, 2018', '2.8', '4.0.3 and up']]\n",
            "\n",
            "\n",
            "['id', 'track_name', 'size_bytes', 'currency', 'price', 'rating_count_tot', 'rating_count_ver', 'user_rating', 'user_rating_ver', 'ver', 'cont_rating', 'prime_genre', 'sup_devices.num', 'ipadSc_urls.num', 'lang.num', 'vpp_lic']\n",
            "\n",
            "\n",
            "[['281656475', 'PAC-MAN Premium', '100788224', 'USD', '3.99', '21292', '26', '4', '4.5', '6.3.5', '4+', 'Games', '38', '5', '10', '1'], ['281796108', 'Evernote - stay organized', '158578688', 'USD', '0', '161065', '26', '4', '3.5', '8.2.2', '4+', 'Productivity', '37', '5', '23', '1'], ['281940292', 'WeatherBug - Local Weather, Radar, Maps, Alerts', '100524032', 'USD', '0', '188583', '2822', '3.5', '4.5', '5.0.0', '4+', 'Weather', '37', '5', '3', '1'], ['282614216', 'eBay: Best App to Buy, Sell, Save! Online Shopping', '128512000', 'USD', '0', '262241', '649', '4', '4.5', '5.10.0', '12+', 'Shopping', '37', '5', '9', '1'], ['282935706', 'Bible', '92774400', 'USD', '0', '985920', '5320', '4.5', '5', '7.5.1', '4+', 'Reference', '37', '5', '45', '1'], ['283619399', 'Shanghai Mahjong', '10485713', 'USD', '0.99', '8253', '5516', '4', '4', '1.8', '4+', 'Games', '47', '5', '1', '1'], ['283646709', 'PayPal - Send and request money safely', '227795968', 'USD', '0', '119487', '879', '4', '4.5', '6.12.0', '4+', 'Finance', '37', '0', '19', '1'], ['284035177', 'Pandora - Music & Radio', '130242560', 'USD', '0', '1126879', '3594', '4', '4.5', '8.4.1', '12+', 'Music', '37', '4', '1', '1'], ['284666222', 'PCalc - The Best Calculator', '49250304', 'USD', '9.99', '1117', '4', '4.5', '5', '3.6.6', '4+', 'Utilities', '37', '5', '1', '1'], ['284736660', 'Ms. PAC-MAN', '70023168', 'USD', '3.99', '7885', '40', '4', '4', '4.0.4', '4+', 'Games', '38', '0', '10', '1']]\n"
          ],
          "name": "stdout"
        }
      ]
    },
    {
      "cell_type": "markdown",
      "metadata": {
        "id": "O6zw5rrsM1OR"
      },
      "source": [
        "\n",
        "To make it easier to explore the two data sets, we'll first write a function named **explore_data()** that we can use repeatedly to explore rows in a more readable way. We'll also add an option for our function to show the number of rows and columns for any data set.\n",
        "\n",
        "\n"
      ]
    },
    {
      "cell_type": "code",
      "metadata": {
        "id": "iqt3lobGJ0An"
      },
      "source": [
        "def explore_data(dataset, start, end, rows_and_columns=False):\n",
        "  dataset_slice = dataset[start:end]\n",
        "  for row in dataset_slice:\n",
        "    print(row)\n",
        "    print('\\n') # add a new empty line between rows\n",
        "\n",
        "  if rows_and_columns:\n",
        "    print('Number of rows:', len(dataset))\n",
        "    print('Number of columns:', len(row))"
      ],
      "execution_count": 4,
      "outputs": []
    },
    {
      "cell_type": "code",
      "metadata": {
        "colab": {
          "base_uri": "https://localhost:8080/"
        },
        "id": "RNWPFljONPmq",
        "outputId": "7d43d3a3-8482-41af-b622-8a2fd7659f07"
      },
      "source": [
        "print(android_header)\n",
        "print('\\n')\n",
        "print(explore_data(android, 0, 10, True))"
      ],
      "execution_count": 5,
      "outputs": [
        {
          "output_type": "stream",
          "text": [
            "['App', 'Category', 'Rating', 'Reviews', 'Size', 'Installs', 'Type', 'Price', 'Content Rating', 'Genres', 'Last Updated', 'Current Ver', 'Android Ver']\n",
            "\n",
            "\n",
            "['Photo Editor & Candy Camera & Grid & ScrapBook', 'ART_AND_DESIGN', '4.1', '159', '19M', '10,000+', 'Free', '0', 'Everyone', 'Art & Design', 'January 7, 2018', '1.0.0', '4.0.3 and up']\n",
            "\n",
            "\n",
            "['Coloring book moana', 'ART_AND_DESIGN', '3.9', '967', '14M', '500,000+', 'Free', '0', 'Everyone', 'Art & Design;Pretend Play', 'January 15, 2018', '2.0.0', '4.0.3 and up']\n",
            "\n",
            "\n",
            "['U Launcher Lite – FREE Live Cool Themes, Hide Apps', 'ART_AND_DESIGN', '4.7', '87510', '8.7M', '5,000,000+', 'Free', '0', 'Everyone', 'Art & Design', 'August 1, 2018', '1.2.4', '4.0.3 and up']\n",
            "\n",
            "\n",
            "['Sketch - Draw & Paint', 'ART_AND_DESIGN', '4.5', '215644', '25M', '50,000,000+', 'Free', '0', 'Teen', 'Art & Design', 'June 8, 2018', 'Varies with device', '4.2 and up']\n",
            "\n",
            "\n",
            "['Pixel Draw - Number Art Coloring Book', 'ART_AND_DESIGN', '4.3', '967', '2.8M', '100,000+', 'Free', '0', 'Everyone', 'Art & Design;Creativity', 'June 20, 2018', '1.1', '4.4 and up']\n",
            "\n",
            "\n",
            "['Paper flowers instructions', 'ART_AND_DESIGN', '4.4', '167', '5.6M', '50,000+', 'Free', '0', 'Everyone', 'Art & Design', 'March 26, 2017', '1.0', '2.3 and up']\n",
            "\n",
            "\n",
            "['Smoke Effect Photo Maker - Smoke Editor', 'ART_AND_DESIGN', '3.8', '178', '19M', '50,000+', 'Free', '0', 'Everyone', 'Art & Design', 'April 26, 2018', '1.1', '4.0.3 and up']\n",
            "\n",
            "\n",
            "['Infinite Painter', 'ART_AND_DESIGN', '4.1', '36815', '29M', '1,000,000+', 'Free', '0', 'Everyone', 'Art & Design', 'June 14, 2018', '6.1.61.1', '4.2 and up']\n",
            "\n",
            "\n",
            "['Garden Coloring Book', 'ART_AND_DESIGN', '4.4', '13791', '33M', '1,000,000+', 'Free', '0', 'Everyone', 'Art & Design', 'September 20, 2017', '2.9.2', '3.0 and up']\n",
            "\n",
            "\n",
            "['Kids Paint Free - Drawing Fun', 'ART_AND_DESIGN', '4.7', '121', '3.1M', '10,000+', 'Free', '0', 'Everyone', 'Art & Design;Creativity', 'July 3, 2018', '2.8', '4.0.3 and up']\n",
            "\n",
            "\n",
            "Number of rows: 10841\n",
            "Number of columns: 13\n",
            "None\n"
          ],
          "name": "stdout"
        }
      ]
    },
    {
      "cell_type": "markdown",
      "metadata": {
        "id": "-b96_6BqO5Y-"
      },
      "source": [
        "We see that the Google Play data set has 10841 apps and 13 columns. At a quick glance, the columns that might be useful for the purpose of our analysis are '**App**', '**Category**', '**Reviews**', '**Installs**', '**Type**', '**Price**', and '**Genres**'.\n",
        "\n",
        "Now let's take a look at the App Store data set."
      ]
    },
    {
      "cell_type": "code",
      "metadata": {
        "colab": {
          "base_uri": "https://localhost:8080/"
        },
        "id": "snlD8wYHNvFv",
        "outputId": "43804639-8629-47d7-9bd8-343d5610e248"
      },
      "source": [
        "print(ios_header)\n",
        "print('\\n')\n",
        "explore_data(ios, 0, 10, True)"
      ],
      "execution_count": 6,
      "outputs": [
        {
          "output_type": "stream",
          "text": [
            "['id', 'track_name', 'size_bytes', 'currency', 'price', 'rating_count_tot', 'rating_count_ver', 'user_rating', 'user_rating_ver', 'ver', 'cont_rating', 'prime_genre', 'sup_devices.num', 'ipadSc_urls.num', 'lang.num', 'vpp_lic']\n",
            "\n",
            "\n",
            "['281656475', 'PAC-MAN Premium', '100788224', 'USD', '3.99', '21292', '26', '4', '4.5', '6.3.5', '4+', 'Games', '38', '5', '10', '1']\n",
            "\n",
            "\n",
            "['281796108', 'Evernote - stay organized', '158578688', 'USD', '0', '161065', '26', '4', '3.5', '8.2.2', '4+', 'Productivity', '37', '5', '23', '1']\n",
            "\n",
            "\n",
            "['281940292', 'WeatherBug - Local Weather, Radar, Maps, Alerts', '100524032', 'USD', '0', '188583', '2822', '3.5', '4.5', '5.0.0', '4+', 'Weather', '37', '5', '3', '1']\n",
            "\n",
            "\n",
            "['282614216', 'eBay: Best App to Buy, Sell, Save! Online Shopping', '128512000', 'USD', '0', '262241', '649', '4', '4.5', '5.10.0', '12+', 'Shopping', '37', '5', '9', '1']\n",
            "\n",
            "\n",
            "['282935706', 'Bible', '92774400', 'USD', '0', '985920', '5320', '4.5', '5', '7.5.1', '4+', 'Reference', '37', '5', '45', '1']\n",
            "\n",
            "\n",
            "['283619399', 'Shanghai Mahjong', '10485713', 'USD', '0.99', '8253', '5516', '4', '4', '1.8', '4+', 'Games', '47', '5', '1', '1']\n",
            "\n",
            "\n",
            "['283646709', 'PayPal - Send and request money safely', '227795968', 'USD', '0', '119487', '879', '4', '4.5', '6.12.0', '4+', 'Finance', '37', '0', '19', '1']\n",
            "\n",
            "\n",
            "['284035177', 'Pandora - Music & Radio', '130242560', 'USD', '0', '1126879', '3594', '4', '4.5', '8.4.1', '12+', 'Music', '37', '4', '1', '1']\n",
            "\n",
            "\n",
            "['284666222', 'PCalc - The Best Calculator', '49250304', 'USD', '9.99', '1117', '4', '4.5', '5', '3.6.6', '4+', 'Utilities', '37', '5', '1', '1']\n",
            "\n",
            "\n",
            "['284736660', 'Ms. PAC-MAN', '70023168', 'USD', '3.99', '7885', '40', '4', '4', '4.0.4', '4+', 'Games', '38', '0', '10', '1']\n",
            "\n",
            "\n",
            "Number of rows: 7197\n",
            "Number of columns: 16\n"
          ],
          "name": "stdout"
        }
      ]
    },
    {
      "cell_type": "markdown",
      "metadata": {
        "id": "Js4YquEUTl58"
      },
      "source": [
        "We have 7197 iOS apps in this data set, and the columns that seem interesting are: '**track_name**', '**currency**', '**price**', '**rating_count_tot**', '**rating_count_ver**', and '**prime_genre**'. Not all column names are self-explanatory in this case, but details about each column can be found in the data set [documentation.](https://www.kaggle.com/ramamet4/app-store-apple-data-set-10k-apps/home)"
      ]
    },
    {
      "cell_type": "markdown",
      "metadata": {
        "id": "5930AfFnTfxH"
      },
      "source": [
        "## **Deleting Wrong Data**"
      ]
    },
    {
      "cell_type": "markdown",
      "metadata": {
        "id": "FQ97Yls_VOvO"
      },
      "source": [
        "Write a function **find_missing_data()** to compare length of each row with length of header and find the index of row has wrong length => wrong data"
      ]
    },
    {
      "cell_type": "code",
      "metadata": {
        "id": "F--D3wuXPUx3"
      },
      "source": [
        "def find_missing_data(dataset, header):\n",
        "  count_err_rows = 0\n",
        "  for row in dataset:\n",
        "    if len(row) != len(header):\n",
        "      index = dataset.index(row)\n",
        "      print('row {} has wrong length'.format(index))\n",
        "      count_err_rows += 1\n",
        "    else:\n",
        "      count_err_rows = count_err_rows\n",
        "  if count_err_rows == 0:\n",
        "    result = 'Dataset has 0 rows wrong length'\n",
        "    return result"
      ],
      "execution_count": 7,
      "outputs": []
    },
    {
      "cell_type": "code",
      "metadata": {
        "colab": {
          "base_uri": "https://localhost:8080/"
        },
        "id": "UkkJFSGMW_WM",
        "outputId": "6b4b2f1c-a027-461e-ef38-91b6287e5d7e"
      },
      "source": [
        "find_missing_data(android, android_header)"
      ],
      "execution_count": 8,
      "outputs": [
        {
          "output_type": "stream",
          "text": [
            "row 10472 has wrong length\n"
          ],
          "name": "stdout"
        }
      ]
    },
    {
      "cell_type": "code",
      "metadata": {
        "colab": {
          "base_uri": "https://localhost:8080/"
        },
        "id": "Nnm391n4ZDds",
        "outputId": "c8c16f79-80b1-4bbc-b986-dd106d508002"
      },
      "source": [
        "print(android[10472])\n",
        "print('\\n')\n",
        "print(android_header)\n",
        "print('\\n')\n",
        "print(android[0])"
      ],
      "execution_count": 9,
      "outputs": [
        {
          "output_type": "stream",
          "text": [
            "['Life Made WI-Fi Touchscreen Photo Frame', '1.9', '19', '3.0M', '1,000+', 'Free', '0', 'Everyone', '', 'February 11, 2018', '1.0.19', '4.0 and up']\n",
            "\n",
            "\n",
            "['App', 'Category', 'Rating', 'Reviews', 'Size', 'Installs', 'Type', 'Price', 'Content Rating', 'Genres', 'Last Updated', 'Current Ver', 'Android Ver']\n",
            "\n",
            "\n",
            "['Photo Editor & Candy Camera & Grid & ScrapBook', 'ART_AND_DESIGN', '4.1', '159', '19M', '10,000+', 'Free', '0', 'Everyone', 'Art & Design', 'January 7, 2018', '1.0.0', '4.0.3 and up']\n"
          ],
          "name": "stdout"
        }
      ]
    },
    {
      "cell_type": "markdown",
      "metadata": {
        "id": "wZ8-6cxpcOBa"
      },
      "source": [
        "The row 10472 corresponds to the app ***Life Made WI-Fi Touchscreen Photo Frame***, and we can see that the rating is **19**. This is clearly off because the maximum rating for a Google Play app is **5** , this problem is caused by a **missing value in the 'Category'** column. As a consequence, we'll delete this row."
      ]
    },
    {
      "cell_type": "code",
      "metadata": {
        "id": "AeA3t-S4aNxf",
        "colab": {
          "base_uri": "https://localhost:8080/"
        },
        "outputId": "002476e0-b2aa-4882-ffb3-5fbc53572b54"
      },
      "source": [
        "print(len(android))\n",
        "del android[10472]\n",
        "print(len(android))"
      ],
      "execution_count": 13,
      "outputs": [
        {
          "output_type": "stream",
          "text": [
            "10841\n",
            "10840\n"
          ],
          "name": "stdout"
        }
      ]
    },
    {
      "cell_type": "code",
      "metadata": {
        "colab": {
          "base_uri": "https://localhost:8080/",
          "height": 35
        },
        "id": "wsrq9F_maLzB",
        "outputId": "ed1152b8-0d4a-4192-981d-8bffba449b69"
      },
      "source": [
        "find_missing_data(ios, ios_header)"
      ],
      "execution_count": 11,
      "outputs": [
        {
          "output_type": "execute_result",
          "data": {
            "application/vnd.google.colaboratory.intrinsic+json": {
              "type": "string"
            },
            "text/plain": [
              "'Dataset has 0 rows wrong length'"
            ]
          },
          "metadata": {
            "tags": []
          },
          "execution_count": 11
        }
      ]
    },
    {
      "cell_type": "markdown",
      "metadata": {
        "id": "enY4Hgm7dbsI"
      },
      "source": [
        "## **Removing Duplicate Entries**\n"
      ]
    },
    {
      "cell_type": "markdown",
      "metadata": {
        "id": "xti7F9JPdkFI"
      },
      "source": [
        "### **Part One**"
      ]
    },
    {
      "cell_type": "markdown",
      "metadata": {
        "id": "fYGOTXrRdqiD"
      },
      "source": [
        "If we explore the Google Play data set long enough, we'll find that some apps have more than one entry. For instance, the application *Instagram* has four entries:"
      ]
    },
    {
      "cell_type": "code",
      "metadata": {
        "colab": {
          "base_uri": "https://localhost:8080/"
        },
        "id": "cx7fFBIAeAme",
        "outputId": "250d7ed1-46b9-450c-f185-129d510ba002"
      },
      "source": [
        "android_header"
      ],
      "execution_count": 27,
      "outputs": [
        {
          "output_type": "execute_result",
          "data": {
            "text/plain": [
              "['App',\n",
              " 'Category',\n",
              " 'Rating',\n",
              " 'Reviews',\n",
              " 'Size',\n",
              " 'Installs',\n",
              " 'Type',\n",
              " 'Price',\n",
              " 'Content Rating',\n",
              " 'Genres',\n",
              " 'Last Updated',\n",
              " 'Current Ver',\n",
              " 'Android Ver']"
            ]
          },
          "metadata": {
            "tags": []
          },
          "execution_count": 27
        }
      ]
    },
    {
      "cell_type": "code",
      "metadata": {
        "colab": {
          "base_uri": "https://localhost:8080/"
        },
        "id": "JRbYa9JsdT_j",
        "outputId": "ddaf3982-5b55-44b9-80db-209de96e019b"
      },
      "source": [
        "for app in android:\n",
        "  name = app[0]\n",
        "  if name == 'Instagram':\n",
        "    print(app)"
      ],
      "execution_count": 28,
      "outputs": [
        {
          "output_type": "stream",
          "text": [
            "['Instagram', 'SOCIAL', '4.5', '66577313', 'Varies with device', '1,000,000,000+', 'Free', '0', 'Teen', 'Social', 'July 31, 2018', 'Varies with device', 'Varies with device']\n",
            "['Instagram', 'SOCIAL', '4.5', '66577446', 'Varies with device', '1,000,000,000+', 'Free', '0', 'Teen', 'Social', 'July 31, 2018', 'Varies with device', 'Varies with device']\n",
            "['Instagram', 'SOCIAL', '4.5', '66577313', 'Varies with device', '1,000,000,000+', 'Free', '0', 'Teen', 'Social', 'July 31, 2018', 'Varies with device', 'Varies with device']\n",
            "['Instagram', 'SOCIAL', '4.5', '66509917', 'Varies with device', '1,000,000,000+', 'Free', '0', 'Teen', 'Social', 'July 31, 2018', 'Varies with device', 'Varies with device']\n"
          ],
          "name": "stdout"
        }
      ]
    },
    {
      "cell_type": "code",
      "metadata": {
        "id": "H3HvQnOMd32u"
      },
      "source": [
        ""
      ],
      "execution_count": null,
      "outputs": []
    }
  ]
}