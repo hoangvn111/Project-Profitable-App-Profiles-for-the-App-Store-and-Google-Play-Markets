{
  "nbformat": 4,
  "nbformat_minor": 0,
  "metadata": {
    "colab": {
      "name": "Project: Profitable App Profiles for the App Store and Google Play Markets.ipynb",
      "provenance": [],
      "authorship_tag": "ABX9TyPOUs3ACtnm8gxZSuGhOCzO",
      "include_colab_link": true
    },
    "kernelspec": {
      "name": "python3",
      "display_name": "Python 3"
    },
    "language_info": {
      "name": "python"
    }
  },
  "cells": [
    {
      "cell_type": "markdown",
      "metadata": {
        "id": "view-in-github",
        "colab_type": "text"
      },
      "source": [
        "<a href=\"https://colab.research.google.com/github/hoangvn111/Project-Profitable-App-Profiles-for-the-App-Store-and-Google-Play-Markets/blob/master/Project_Profitable_App_Profiles_for_the_App_Store_and_Google_Play_Markets.ipynb\" target=\"_parent\"><img src=\"https://colab.research.google.com/assets/colab-badge.svg\" alt=\"Open In Colab\"/></a>"
      ]
    },
    {
      "cell_type": "code",
      "metadata": {
        "id": "gNHtgjp9C8fu",
        "colab": {
          "base_uri": "https://localhost:8080/"
        },
        "outputId": "fe6803b9-8dda-432b-9212-dfe5675cb0d0"
      },
      "source": [
        "from google.colab import drive \n",
        "drive.mount('/content/drive/')"
      ],
      "execution_count": 1,
      "outputs": [
        {
          "output_type": "stream",
          "text": [
            "Drive already mounted at /content/drive/; to attempt to forcibly remount, call drive.mount(\"/content/drive/\", force_remount=True).\n"
          ],
          "name": "stdout"
        }
      ]
    },
    {
      "cell_type": "markdown",
      "metadata": {
        "id": "xvW198P4H5dM"
      },
      "source": [
        "\n",
        "# **Profitable App Profiles for the App Store and Google Play Markets**\n",
        "Our aim in this project is to find mobile app profiles that are profitable for the App Store and Google Play markets. We're working as data analysts for a company that builds Android and iOS mobile apps, and our job is to enable our team of developers to make data-driven decisions with respect to the kind of apps they build.\n",
        "\n",
        "At our company, we only build apps that are free to download and install, and our main source of revenue consists of in-app ads. This means that our revenue for any given app is mostly influenced by the number of users that use our app. Our goal for this project is to analyze data to help our developers understand what kinds of apps are likely to attract more users."
      ]
    },
    {
      "cell_type": "markdown",
      "metadata": {
        "id": "_OhQL6orINDa"
      },
      "source": [
        "## **Opening and Exploring the Data**"
      ]
    },
    {
      "cell_type": "code",
      "metadata": {
        "id": "eqbxy8aYF1X6"
      },
      "source": [
        "import csv\n",
        "\n",
        "open_file = open('/content/drive/MyDrive/my_datasets/Project: Profitable App Profiles for the App Store and Google Play Markets/googleplaystore.csv', encoding='utf8')\n",
        "read_file = csv.reader(open_file)\n",
        "android = list(read_file)\n",
        "android_header = android[0]\n",
        "android = android[1:]\n",
        "\n",
        "open_file = open('/content/drive/MyDrive/my_datasets/Project: Profitable App Profiles for the App Store and Google Play Markets/AppleStore.csv', encoding='utf8')\n",
        "read_file = csv.reader(open_file)\n",
        "ios = list(read_file)\n",
        "\n",
        "# remove first index column\n",
        "for row in ios:\n",
        "  row.pop(0)\n",
        "\n",
        "ios_header = ios[0]\n",
        "ios = ios[1:]\n"
      ],
      "execution_count": 2,
      "outputs": []
    },
    {
      "cell_type": "code",
      "metadata": {
        "colab": {
          "base_uri": "https://localhost:8080/"
        },
        "id": "Wv10D6ZmNU6T",
        "outputId": "8f8221b3-66e1-42f9-b3ff-ac2294bc7bd2"
      },
      "source": [
        "print(android_header)\n",
        "print('\\n')\n",
        "print(android[:3])\n",
        "print('\\n')\n",
        "print(ios_header)\n",
        "print('\\n')\n",
        "print(ios[:3])"
      ],
      "execution_count": 3,
      "outputs": [
        {
          "output_type": "stream",
          "text": [
            "['App', 'Category', 'Rating', 'Reviews', 'Size', 'Installs', 'Type', 'Price', 'Content Rating', 'Genres', 'Last Updated', 'Current Ver', 'Android Ver']\n",
            "\n",
            "\n",
            "[['Photo Editor & Candy Camera & Grid & ScrapBook', 'ART_AND_DESIGN', '4.1', '159', '19M', '10,000+', 'Free', '0', 'Everyone', 'Art & Design', 'January 7, 2018', '1.0.0', '4.0.3 and up'], ['Coloring book moana', 'ART_AND_DESIGN', '3.9', '967', '14M', '500,000+', 'Free', '0', 'Everyone', 'Art & Design;Pretend Play', 'January 15, 2018', '2.0.0', '4.0.3 and up'], ['U Launcher Lite – FREE Live Cool Themes, Hide Apps', 'ART_AND_DESIGN', '4.7', '87510', '8.7M', '5,000,000+', 'Free', '0', 'Everyone', 'Art & Design', 'August 1, 2018', '1.2.4', '4.0.3 and up']]\n",
            "\n",
            "\n",
            "['id', 'track_name', 'size_bytes', 'currency', 'price', 'rating_count_tot', 'rating_count_ver', 'user_rating', 'user_rating_ver', 'ver', 'cont_rating', 'prime_genre', 'sup_devices.num', 'ipadSc_urls.num', 'lang.num', 'vpp_lic']\n",
            "\n",
            "\n",
            "[['281656475', 'PAC-MAN Premium', '100788224', 'USD', '3.99', '21292', '26', '4', '4.5', '6.3.5', '4+', 'Games', '38', '5', '10', '1'], ['281796108', 'Evernote - stay organized', '158578688', 'USD', '0', '161065', '26', '4', '3.5', '8.2.2', '4+', 'Productivity', '37', '5', '23', '1'], ['281940292', 'WeatherBug - Local Weather, Radar, Maps, Alerts', '100524032', 'USD', '0', '188583', '2822', '3.5', '4.5', '5.0.0', '4+', 'Weather', '37', '5', '3', '1']]\n"
          ],
          "name": "stdout"
        }
      ]
    },
    {
      "cell_type": "markdown",
      "metadata": {
        "id": "O6zw5rrsM1OR"
      },
      "source": [
        "\n",
        "To make it easier to explore the two data sets, we'll first write a function named **explore_data()** that we can use repeatedly to explore rows in a more readable way. We'll also add an option for our function to show the number of rows and columns for any data set.\n",
        "\n",
        "\n"
      ]
    },
    {
      "cell_type": "code",
      "metadata": {
        "id": "iqt3lobGJ0An"
      },
      "source": [
        "def explore_data(dataset, start, end, rows_and_columns=False):\n",
        "  dataset_slice = dataset[start:end]\n",
        "  for row in dataset_slice:\n",
        "    print(row)\n",
        "    print('\\n') # add a new empty line between rows\n",
        "\n",
        "  if rows_and_columns:\n",
        "    print('Number of rows:', len(dataset))\n",
        "    print('Number of columns:', len(row))"
      ],
      "execution_count": 4,
      "outputs": []
    },
    {
      "cell_type": "code",
      "metadata": {
        "colab": {
          "base_uri": "https://localhost:8080/"
        },
        "id": "RNWPFljONPmq",
        "outputId": "9a71fd03-1a36-4258-d85d-9c329e96963b"
      },
      "source": [
        "print(android_header)\n",
        "print('\\n')\n",
        "print(explore_data(android, 0, 3, True))"
      ],
      "execution_count": 5,
      "outputs": [
        {
          "output_type": "stream",
          "text": [
            "['App', 'Category', 'Rating', 'Reviews', 'Size', 'Installs', 'Type', 'Price', 'Content Rating', 'Genres', 'Last Updated', 'Current Ver', 'Android Ver']\n",
            "\n",
            "\n",
            "['Photo Editor & Candy Camera & Grid & ScrapBook', 'ART_AND_DESIGN', '4.1', '159', '19M', '10,000+', 'Free', '0', 'Everyone', 'Art & Design', 'January 7, 2018', '1.0.0', '4.0.3 and up']\n",
            "\n",
            "\n",
            "['Coloring book moana', 'ART_AND_DESIGN', '3.9', '967', '14M', '500,000+', 'Free', '0', 'Everyone', 'Art & Design;Pretend Play', 'January 15, 2018', '2.0.0', '4.0.3 and up']\n",
            "\n",
            "\n",
            "['U Launcher Lite – FREE Live Cool Themes, Hide Apps', 'ART_AND_DESIGN', '4.7', '87510', '8.7M', '5,000,000+', 'Free', '0', 'Everyone', 'Art & Design', 'August 1, 2018', '1.2.4', '4.0.3 and up']\n",
            "\n",
            "\n",
            "Number of rows: 10841\n",
            "Number of columns: 13\n",
            "None\n"
          ],
          "name": "stdout"
        }
      ]
    },
    {
      "cell_type": "markdown",
      "metadata": {
        "id": "-b96_6BqO5Y-"
      },
      "source": [
        "We see that the Google Play data set has 10841 apps and 13 columns. At a quick glance, the columns that might be useful for the purpose of our analysis are '**App**', '**Category**', '**Reviews**', '**Installs**', '**Type**', '**Price**', and '**Genres**'.\n",
        "\n",
        "Now let's take a look at the App Store data set."
      ]
    },
    {
      "cell_type": "code",
      "metadata": {
        "colab": {
          "base_uri": "https://localhost:8080/"
        },
        "id": "snlD8wYHNvFv",
        "outputId": "0cd06d9b-b54b-4d5d-c5f1-b255a8711d8e"
      },
      "source": [
        "print(ios_header)\n",
        "print('\\n')\n",
        "explore_data(ios, 0, 3, True)"
      ],
      "execution_count": 6,
      "outputs": [
        {
          "output_type": "stream",
          "text": [
            "['id', 'track_name', 'size_bytes', 'currency', 'price', 'rating_count_tot', 'rating_count_ver', 'user_rating', 'user_rating_ver', 'ver', 'cont_rating', 'prime_genre', 'sup_devices.num', 'ipadSc_urls.num', 'lang.num', 'vpp_lic']\n",
            "\n",
            "\n",
            "['281656475', 'PAC-MAN Premium', '100788224', 'USD', '3.99', '21292', '26', '4', '4.5', '6.3.5', '4+', 'Games', '38', '5', '10', '1']\n",
            "\n",
            "\n",
            "['281796108', 'Evernote - stay organized', '158578688', 'USD', '0', '161065', '26', '4', '3.5', '8.2.2', '4+', 'Productivity', '37', '5', '23', '1']\n",
            "\n",
            "\n",
            "['281940292', 'WeatherBug - Local Weather, Radar, Maps, Alerts', '100524032', 'USD', '0', '188583', '2822', '3.5', '4.5', '5.0.0', '4+', 'Weather', '37', '5', '3', '1']\n",
            "\n",
            "\n",
            "Number of rows: 7197\n",
            "Number of columns: 16\n"
          ],
          "name": "stdout"
        }
      ]
    },
    {
      "cell_type": "markdown",
      "metadata": {
        "id": "Js4YquEUTl58"
      },
      "source": [
        "We have 7197 iOS apps in this data set, and the columns that seem interesting are: '**track_name**', '**currency**', '**price**', '**rating_count_tot**', '**rating_count_ver**', and '**prime_genre**'. Not all column names are self-explanatory in this case, but details about each column can be found in the data set [documentation.](https://www.kaggle.com/ramamet4/app-store-apple-data-set-10k-apps/home)"
      ]
    },
    {
      "cell_type": "markdown",
      "metadata": {
        "id": "5930AfFnTfxH"
      },
      "source": [
        "## **Deleting Wrong Data**"
      ]
    },
    {
      "cell_type": "markdown",
      "metadata": {
        "id": "FQ97Yls_VOvO"
      },
      "source": [
        "Write a function **find_missing_data()** to compare length of each row with length of header and find the index of row has wrong length => wrong data"
      ]
    },
    {
      "cell_type": "code",
      "metadata": {
        "id": "F--D3wuXPUx3"
      },
      "source": [
        "def find_missing_data(dataset, header):\n",
        "  count_err_rows = 0\n",
        "  for row in dataset:\n",
        "    if len(row) != len(header):\n",
        "      index = dataset.index(row)\n",
        "      print('row {} has wrong length'.format(index))\n",
        "      count_err_rows += 1\n",
        "    else:\n",
        "      count_err_rows = count_err_rows\n",
        "  if count_err_rows == 0:\n",
        "    result = 'Dataset has 0 rows wrong length'\n",
        "    return result"
      ],
      "execution_count": 7,
      "outputs": []
    },
    {
      "cell_type": "code",
      "metadata": {
        "colab": {
          "base_uri": "https://localhost:8080/"
        },
        "id": "UkkJFSGMW_WM",
        "outputId": "caef83a9-dcd9-4088-ed47-d9c52dd71565"
      },
      "source": [
        "find_missing_data(android, android_header)"
      ],
      "execution_count": 8,
      "outputs": [
        {
          "output_type": "stream",
          "text": [
            "row 10472 has wrong length\n"
          ],
          "name": "stdout"
        }
      ]
    },
    {
      "cell_type": "code",
      "metadata": {
        "colab": {
          "base_uri": "https://localhost:8080/"
        },
        "id": "Nnm391n4ZDds",
        "outputId": "59d5b427-d0ed-4485-ae72-c5e0e928923a"
      },
      "source": [
        "print(android[10472])\n",
        "print('\\n')\n",
        "print(android_header)\n",
        "print('\\n')\n",
        "print(android[0])"
      ],
      "execution_count": 9,
      "outputs": [
        {
          "output_type": "stream",
          "text": [
            "['Life Made WI-Fi Touchscreen Photo Frame', '1.9', '19', '3.0M', '1,000+', 'Free', '0', 'Everyone', '', 'February 11, 2018', '1.0.19', '4.0 and up']\n",
            "\n",
            "\n",
            "['App', 'Category', 'Rating', 'Reviews', 'Size', 'Installs', 'Type', 'Price', 'Content Rating', 'Genres', 'Last Updated', 'Current Ver', 'Android Ver']\n",
            "\n",
            "\n",
            "['Photo Editor & Candy Camera & Grid & ScrapBook', 'ART_AND_DESIGN', '4.1', '159', '19M', '10,000+', 'Free', '0', 'Everyone', 'Art & Design', 'January 7, 2018', '1.0.0', '4.0.3 and up']\n"
          ],
          "name": "stdout"
        }
      ]
    },
    {
      "cell_type": "markdown",
      "metadata": {
        "id": "wZ8-6cxpcOBa"
      },
      "source": [
        "The row 10472 corresponds to the app ***Life Made WI-Fi Touchscreen Photo Frame***, and we can see that the rating is **19**. This is clearly off because the maximum rating for a Google Play app is **5** , this problem is caused by a **missing value in the 'Category'** column. As a consequence, we'll delete this row."
      ]
    },
    {
      "cell_type": "code",
      "metadata": {
        "id": "AeA3t-S4aNxf",
        "colab": {
          "base_uri": "https://localhost:8080/"
        },
        "outputId": "e240f683-2ba7-44f0-b5d1-b466b80ca1a6"
      },
      "source": [
        "print(len(android))\n",
        "del android[10472]\n",
        "print(len(android))"
      ],
      "execution_count": 10,
      "outputs": [
        {
          "output_type": "stream",
          "text": [
            "10841\n",
            "10840\n"
          ],
          "name": "stdout"
        }
      ]
    },
    {
      "cell_type": "code",
      "metadata": {
        "colab": {
          "base_uri": "https://localhost:8080/",
          "height": 35
        },
        "id": "wsrq9F_maLzB",
        "outputId": "162ec4f1-bf43-44d2-ba28-d5b64a275e69"
      },
      "source": [
        "find_missing_data(ios, ios_header)"
      ],
      "execution_count": 11,
      "outputs": [
        {
          "output_type": "execute_result",
          "data": {
            "application/vnd.google.colaboratory.intrinsic+json": {
              "type": "string"
            },
            "text/plain": [
              "'Dataset has 0 rows wrong length'"
            ]
          },
          "metadata": {
            "tags": []
          },
          "execution_count": 11
        }
      ]
    },
    {
      "cell_type": "markdown",
      "metadata": {
        "id": "enY4Hgm7dbsI"
      },
      "source": [
        "## **Removing Duplicate Entries**\n"
      ]
    },
    {
      "cell_type": "markdown",
      "metadata": {
        "id": "xti7F9JPdkFI"
      },
      "source": [
        "### **Part One**"
      ]
    },
    {
      "cell_type": "markdown",
      "metadata": {
        "id": "fYGOTXrRdqiD"
      },
      "source": [
        "If we explore the Google Play data set long enough, we'll find that some apps have more than one entry. For instance, the application *Instagram* has four entries:"
      ]
    },
    {
      "cell_type": "code",
      "metadata": {
        "colab": {
          "base_uri": "https://localhost:8080/"
        },
        "id": "cx7fFBIAeAme",
        "outputId": "b4ff459c-2f30-4ad5-aaf6-23c5ebf7919b"
      },
      "source": [
        "android_header"
      ],
      "execution_count": 12,
      "outputs": [
        {
          "output_type": "execute_result",
          "data": {
            "text/plain": [
              "['App',\n",
              " 'Category',\n",
              " 'Rating',\n",
              " 'Reviews',\n",
              " 'Size',\n",
              " 'Installs',\n",
              " 'Type',\n",
              " 'Price',\n",
              " 'Content Rating',\n",
              " 'Genres',\n",
              " 'Last Updated',\n",
              " 'Current Ver',\n",
              " 'Android Ver']"
            ]
          },
          "metadata": {
            "tags": []
          },
          "execution_count": 12
        }
      ]
    },
    {
      "cell_type": "code",
      "metadata": {
        "colab": {
          "base_uri": "https://localhost:8080/"
        },
        "id": "JRbYa9JsdT_j",
        "outputId": "be1c9131-5b9f-49df-c9ba-0cb90bd8f831"
      },
      "source": [
        "for app in android:\n",
        "  name = app[0]\n",
        "  if name == 'Instagram':\n",
        "    print(app)"
      ],
      "execution_count": 13,
      "outputs": [
        {
          "output_type": "stream",
          "text": [
            "['Instagram', 'SOCIAL', '4.5', '66577313', 'Varies with device', '1,000,000,000+', 'Free', '0', 'Teen', 'Social', 'July 31, 2018', 'Varies with device', 'Varies with device']\n",
            "['Instagram', 'SOCIAL', '4.5', '66577446', 'Varies with device', '1,000,000,000+', 'Free', '0', 'Teen', 'Social', 'July 31, 2018', 'Varies with device', 'Varies with device']\n",
            "['Instagram', 'SOCIAL', '4.5', '66577313', 'Varies with device', '1,000,000,000+', 'Free', '0', 'Teen', 'Social', 'July 31, 2018', 'Varies with device', 'Varies with device']\n",
            "['Instagram', 'SOCIAL', '4.5', '66509917', 'Varies with device', '1,000,000,000+', 'Free', '0', 'Teen', 'Social', 'July 31, 2018', 'Varies with device', 'Varies with device']\n"
          ],
          "name": "stdout"
        }
      ]
    },
    {
      "cell_type": "code",
      "metadata": {
        "colab": {
          "base_uri": "https://localhost:8080/"
        },
        "id": "H3HvQnOMd32u",
        "outputId": "e32326da-999d-4ea7-a86f-097728b769cb"
      },
      "source": [
        "duplicate_apps = []\n",
        "unique_apps = []\n",
        "\n",
        "for app in android:\n",
        "  name = app[0]\n",
        "  if name in unique_apps:\n",
        "    duplicate_apps.append(name)\n",
        "  else:\n",
        "    unique_apps.append(name)\n",
        "\n",
        "print('Number of duplicate apps:', len(duplicate_apps))\n",
        "print('\\n')\n",
        "print('Number of unique apps:', len(unique_apps))"
      ],
      "execution_count": 14,
      "outputs": [
        {
          "output_type": "stream",
          "text": [
            "Number of duplicate apps: 1181\n",
            "\n",
            "\n",
            "Number of unique apps: 9659\n"
          ],
          "name": "stdout"
        }
      ]
    },
    {
      "cell_type": "markdown",
      "metadata": {
        "id": "qzFyteYPx6hl"
      },
      "source": [
        "We don't want to count certain apps more than once when we analyze data, so we need to remove the duplicate entries and keep only one entry per app. One thing we could do is remove the duplicate rows randomly, but we could probably find a better way.\n",
        "\n",
        "If you examine the rows we printed two cells above for the Instagram app, the main difference happens on the fourth position of each row, which corresponds to the number of reviews. The different numbers show that the data was collected at different times. We can use this to build a criterion for keeping rows. We won't remove rows randomly, but rather we'll keep the rows that have the highest number of reviews because the higher the number of reviews, the more reliable the ratings.\n",
        "\n",
        "To do that, we will:\n",
        "\n",
        "* Create a dictionary where each key is a unique app name, and the value is the highest number of reviews of that app\n",
        "\n",
        "* Use the dictionary to create a new data set, which will have only one entry per app (and we only select the apps with the highest number of reviews)"
      ]
    },
    {
      "cell_type": "markdown",
      "metadata": {
        "id": "RyW4n2YNyoNj"
      },
      "source": [
        "### **Part Two**\n",
        "Let's start by building the dictionary."
      ]
    },
    {
      "cell_type": "code",
      "metadata": {
        "id": "kzqw-BrMx0Rp"
      },
      "source": [
        "reviews_max = {}\n",
        "\n",
        "for app in android:\n",
        "  name = app[0]\n",
        "  n_reviews = app[3]\n",
        "  if name in reviews_max and n_reviews > reviews_max[name]:\n",
        "    reviews_max[name] = n_reviews\n",
        "  elif name not in reviews_max:\n",
        "    reviews_max[name] = n_reviews\n"
      ],
      "execution_count": 15,
      "outputs": []
    },
    {
      "cell_type": "code",
      "metadata": {
        "colab": {
          "base_uri": "https://localhost:8080/"
        },
        "id": "kZAF0ii80Bq_",
        "outputId": "1bf47e7b-cb1b-4b7a-d680-478074774cc8"
      },
      "source": [
        "print('Expect length:', len(unique_apps))\n",
        "print('Actual length:', len(reviews_max))"
      ],
      "execution_count": 16,
      "outputs": [
        {
          "output_type": "stream",
          "text": [
            "Expect length: 9659\n",
            "Actual length: 9659\n"
          ],
          "name": "stdout"
        }
      ]
    },
    {
      "cell_type": "markdown",
      "metadata": {
        "id": "nMt6dCRD023-"
      },
      "source": [
        "Now, let's use the reviews_max dictionary to remove the duplicates. For the duplicate cases, we'll only keep the entries with the highest number of reviews. In the code cell below:\n",
        "\n",
        "* We start by initializing two empty lists, android_clean and already_added.\n",
        "* We loop through the android data set, and for every iteration:\n",
        " - We isolate the name of the app and the number of reviews.\n",
        " - We add the current row (app) to the android_clean list, and the app name (name) to the already_added list if:\n",
        "    - The number of reviews of the current app matches the number of reviews of that app as described in the reviews_max dictionary; and\n",
        "    - The name of the app is not already in the already_added list. We need to add this supplementary condition to account for those cases where the highest number of reviews of a duplicate app is the same for more than one entry (for example, the Box app has three entries, and the number of reviews is the same). If we just check for reviews_max[name] == n_reviews, we'll still end up with duplicate entries for some apps."
      ]
    },
    {
      "cell_type": "code",
      "metadata": {
        "id": "pO4d6v8H0E0M"
      },
      "source": [
        "android_clean = []\n",
        "already_added = []\n",
        "\n",
        "for app in android:\n",
        "  name = app[0]\n",
        "  n_reviews = app[3]\n",
        "\n",
        "  if (reviews_max[name] == n_reviews) and (name not in already_added):\n",
        "    android_clean.append(app)\n",
        "    already_added.append(name)"
      ],
      "execution_count": 17,
      "outputs": []
    },
    {
      "cell_type": "code",
      "metadata": {
        "colab": {
          "base_uri": "https://localhost:8080/"
        },
        "id": "FbrNZ-e729uN",
        "outputId": "76391a3a-78f4-49be-ad28-262a4d2ba606"
      },
      "source": [
        "explore_data(android_clean, 0, 3, True)"
      ],
      "execution_count": 18,
      "outputs": [
        {
          "output_type": "stream",
          "text": [
            "['Photo Editor & Candy Camera & Grid & ScrapBook', 'ART_AND_DESIGN', '4.1', '159', '19M', '10,000+', 'Free', '0', 'Everyone', 'Art & Design', 'January 7, 2018', '1.0.0', '4.0.3 and up']\n",
            "\n",
            "\n",
            "['U Launcher Lite – FREE Live Cool Themes, Hide Apps', 'ART_AND_DESIGN', '4.7', '87510', '8.7M', '5,000,000+', 'Free', '0', 'Everyone', 'Art & Design', 'August 1, 2018', '1.2.4', '4.0.3 and up']\n",
            "\n",
            "\n",
            "['Sketch - Draw & Paint', 'ART_AND_DESIGN', '4.5', '215644', '25M', '50,000,000+', 'Free', '0', 'Teen', 'Art & Design', 'June 8, 2018', 'Varies with device', '4.2 and up']\n",
            "\n",
            "\n",
            "Number of rows: 9659\n",
            "Number of columns: 13\n"
          ],
          "name": "stdout"
        }
      ]
    },
    {
      "cell_type": "code",
      "metadata": {
        "id": "J5hT_l7j3AxT"
      },
      "source": [
        ""
      ],
      "execution_count": 18,
      "outputs": []
    }
  ]
}